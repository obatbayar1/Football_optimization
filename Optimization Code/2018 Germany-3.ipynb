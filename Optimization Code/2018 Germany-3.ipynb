{
 "cells": [
  {
   "cell_type": "code",
   "execution_count": 1,
   "id": "40032b94",
   "metadata": {},
   "outputs": [],
   "source": [
    "import numpy as np\n",
    "import pandas as pd\n",
    "import gurobipy as gb\n",
    "from gurobipy import *"
   ]
  },
  {
   "cell_type": "code",
   "execution_count": 2,
   "id": "01336968",
   "metadata": {},
   "outputs": [
    {
     "name": "stderr",
     "output_type": "stream",
     "text": [
      "/var/folders/3v/g2zdbcdx0czbtz7n9fzgd2180000gn/T/ipykernel_27255/13055136.py:1: DtypeWarning: Columns (108) have mixed types. Specify dtype option on import or set low_memory=False.\n",
      "  df = pd.read_csv('male_players (legacy).csv',encoding='latin1')\n"
     ]
    }
   ],
   "source": [
    "df = pd.read_csv('male_players (legacy).csv',encoding='latin1')\n",
    "df['fifa_update_date'] = pd.to_datetime(df['fifa_update_date'])\n",
    "df = df[df['nationality_name'] == 'Germany']\n",
    "df = df[df['overall'] >= 79]\n",
    "\n",
    "# remove injury player\n",
    "df = df[df['player_id'] != 192318]\n",
    "\n",
    "# Convert values in the 'preferred_foot' column to 0 for 'right' and 1 for 'left'\n",
    "df['preferred_foot'] = df['preferred_foot'].apply(lambda x: 0 if x == 'Right' else 1)\n",
    "\n",
    "# Choose 2018 \n",
    "df = df[df['fifa_update_date'].dt.year == 2018]"
   ]
  },
  {
   "cell_type": "code",
   "execution_count": 3,
   "id": "8d68f13d",
   "metadata": {},
   "outputs": [],
   "source": [
    "name = df[\"short_name\"].tolist()\n",
    "pn = df.iloc[:, -28:-1].columns\n",
    "names = [p+' : '+ item for item in name for p in pn]\n",
    "foot = df['preferred_foot'].tolist()\n",
    "overall = df[\"overall\"].tolist()\n",
    "num = len(name)\n",
    "ability = df.iloc[:, -28:-1].values\n",
    "for i in range(len(ability)):\n",
    "    for j in range(len(ability[i])):\n",
    "        ability[i][j] = eval(ability[i][j])\n",
    "        if ability[i][j] not in range(0,100):\n",
    "            print(ability[i][j])"
   ]
  },
  {
   "cell_type": "code",
   "execution_count": 4,
   "id": "d38bf86b",
   "metadata": {},
   "outputs": [
    {
     "name": "stdout",
     "output_type": "stream",
     "text": [
      "Restricted license - for non-production use only - expires 2024-10-28\n"
     ]
    },
    {
     "data": {
      "text/plain": [
       "<gurobi.Constr *Awaiting Model Update*>"
      ]
     },
     "execution_count": 4,
     "metadata": {},
     "output_type": "execute_result"
    }
   ],
   "source": [
    "model = gb.Model(\"best23\")\n",
    "#model.setParam('MIPGap', 0.00001)\n",
    "# We ask Gurobi not to print too much on screen\n",
    "model.Params.OutputFlag = 0\n",
    "\n",
    "# Your code here:\n",
    "n = model.addVars(num,27,vtype = GRB.BINARY,name=names)\n",
    "total = quicksum(n[i,j]*ability[i][j] for i in range(num) for j in range(27))\n",
    "model.setObjective(total/23, GRB.MAXIMIZE)\n",
    "for i in range(num):\n",
    "    model.addConstr(sum(n[i,j] for j in range(27))<=1)\n",
    "model.addConstr(sum(n[i,j] for i in range(num) for j in range(27))==23)\n",
    "\n",
    "# goal keeper equal to 3\n",
    "model.addConstr(sum(n[i,26] for i in range(num))==3)\n",
    "\n",
    "# forward at least 2\n",
    "model.addConstr(sum(n[i,1] for i in range(num)) + sum(n[i,5] for i in range(num))>=2)\n",
    "\n",
    "# lb and rb at least 1 each\n",
    "model.addConstr(sum(n[i,21] for i in range(num)) >=1)\n",
    "\n",
    "model.addConstr(sum(n[i,25] for i in range(num)) >=1)\n",
    "\n",
    "# rcb and lcb at least 2 each\n",
    "model.addConstr(sum(n[i,22] for i in range(num)) >=2)\n",
    "model.addConstr(sum(n[i,24] for i in range(num)) >=2)\n",
    "\n",
    "# lb must has preferred_foot at left and rb must has preferred_foot at right\n",
    "\n",
    "model.addConstrs(n[i,21]<= foot[i] for i in range(num))\n",
    "model.addConstrs(n[i,16]<= foot[i] for i in range(num))\n",
    "\n",
    "model.addConstrs(n[i,25] + foot[i] <= 1 for i in range(num))\n",
    "model.addConstrs(n[i,20] + foot[i] <= 1 for i in range(num))\n",
    "\n",
    "# Each position no more than 3 players\n",
    "model.addConstrs(sum(n[i,j] for i in range(num)) <=3 for j in range(27))\n",
    "\n",
    "# Number of difference between left side and Right side should within 2 players\n",
    "l = sum(n[i,0] +n[i,3]+n[i,4]+n[i,8]+n[i,11]+n[i,12]+n[i,16]+n[i,17]+n[i,21] for i in range(num))\n",
    "r = sum(n[i,2] +n[i,6]+n[i,7]+n[i,10]+n[i,14]+n[i,15]+n[i,19]+n[i,20]+n[i,25] for i in range(num))\n",
    "model.addConstr(l-r <=2)\n",
    "model.addConstr(r-l <=2)\n",
    "\n",
    "# Backfield at least 7 and no more than 9\n",
    "back = sum(n[i,16] +n[i,20]+n[i,21]+n[i,22]+n[i,23]+n[i,24]+n[i,25]for i in range(num))\n",
    "model.addConstr(back <=9)\n",
    "model.addConstr(back >=7)\n",
    "\n",
    "# Frontfield at least 3 and no more 5\n",
    "f = sum(n[i,0] +n[i,1]+n[i,2]+n[i,3]+n[i,4]+n[i,5]+n[i,6]+n[i,7] for i in range(num))\n",
    "model.addConstr(f <=5)\n",
    "model.addConstr(f >=3)"
   ]
  },
  {
   "cell_type": "code",
   "execution_count": 5,
   "id": "dc576dea",
   "metadata": {},
   "outputs": [
    {
     "name": "stdout",
     "output_type": "stream",
     "text": [
      "gk : M. Neuer\n",
      "lcm : T. Kroos\n",
      "rcb : M. Hummels\n",
      "gk : M. ter Stegen\n",
      "ram : M. Özil\n",
      "rcb : J. Boateng\n",
      "cam : T. Müller\n",
      "lw : L. Sané\n",
      "rcm : S. Khedira\n",
      "rm : M. Reus\n",
      "rwb : J. Kimmich\n",
      "ram : İ. Gündoğan\n",
      "lcb : N. Süle\n",
      "gk : T. Horn\n",
      "lam : J. Draxler\n",
      "lcm : L. Goretzka\n",
      "st : T. Werner\n",
      "lcb : J. Tah\n",
      "rb : L. Bender\n",
      "st : M. Kruse\n",
      "lw : S. Gnabry\n",
      "lam : J. Brandt\n",
      "lb : J. Hector\n",
      "overall rating is:  84.91304347826086\n"
     ]
    }
   ],
   "source": [
    "model.optimize()\n",
    "for v in model.getVars():\n",
    "       if v.x > 0:\n",
    "            print(v.varName)\n",
    "print('overall rating is: ',model.objVal)"
   ]
  },
  {
   "cell_type": "code",
   "execution_count": 6,
   "id": "e18d354b",
   "metadata": {},
   "outputs": [
    {
     "name": "stdout",
     "output_type": "stream",
     "text": [
      "83.91304347826087\n",
      "       player_id       short_name  overall\n",
      "68364     167495         M. Neuer       90\n",
      "68366     182521         T. Kroos       90\n",
      "68373     178603       M. Hummels       89\n",
      "68375     192448    M. ter Stegen       89\n",
      "68414     176635         M. Ãzil       86\n",
      "68418     183907       J. Boateng       86\n",
      "68423     189596       T. MÃ¼ller       86\n",
      "68445     179846       S. Khedira       85\n",
      "68451     188350          M. Reus       85\n",
      "68461     212622       J. Kimmich       85\n",
      "68486     186942   Ä°. GÃ¼ndoÄan       84\n",
      "68507     212190         N. SÃ¼le       84\n",
      "68538     202166       J. Draxler       83\n",
      "68550     209658      L. Goretzka       83\n",
      "68554     212188        T. Werner       83\n",
      "68651     212194        J. Brandt       82\n",
      "68676     150418        M. GÃ³mez       81\n",
      "68706     189251          S. Rudy       81\n",
      "68744     205452      A. RÃ¼diger       81\n",
      "68813     188943         K. Trapp       80\n",
      "68863     207862        M. Ginter       80\n",
      "69014     208334        J. Hector       79\n",
      "69159     192557  M. Plattenhardt       78\n"
     ]
    },
    {
     "name": "stderr",
     "output_type": "stream",
     "text": [
      "/var/folders/3v/g2zdbcdx0czbtz7n9fzgd2180000gn/T/ipykernel_27255/2483571341.py:1: DtypeWarning: Columns (108) have mixed types. Specify dtype option on import or set low_memory=False.\n",
      "  dfreal = pd.read_csv('male_players (legacy).csv',encoding='latin1')\n"
     ]
    }
   ],
   "source": [
    "dfreal = pd.read_csv('male_players (legacy).csv',encoding='latin1')\n",
    "dfreal['fifa_update_date'] = pd.to_datetime(dfreal['fifa_update_date'])\n",
    "dfreal = dfreal[dfreal['fifa_update_date'].dt.year == 2018]\n",
    "real_23player_list = [167495,182521,178603,192448,176635,183907,189596,179846,188350,212622,186942,212190,\n",
    "                    202166,209658,212188,212194,150418,189251,205452,188943,207862,208334,192557]\n",
    "real_df = dfreal[dfreal['player_id'].isin(real_23player_list)]\n",
    "print(np.mean(real_df['overall']))\n",
    "print(real_df[['player_id','short_name','overall']]) #84.45"
   ]
  },
  {
   "cell_type": "code",
   "execution_count": 7,
   "id": "5070547e",
   "metadata": {},
   "outputs": [
    {
     "name": "stdout",
     "output_type": "stream",
     "text": [
      "84.45454545454545\n"
     ]
    }
   ],
   "source": [
    "# real 23 squad and rating\n",
    "real_11player_list = [167495,182521,208334,205452,183907,212622,189251,188350,202166,189596,212188]\n",
    "real_11df = dfreal[dfreal['player_id'].isin(real_11player_list)]\n",
    "print(np.mean(real_11df['overall']))"
   ]
  },
  {
   "cell_type": "code",
   "execution_count": 8,
   "id": "351f987d",
   "metadata": {},
   "outputs": [
    {
     "name": "stdout",
     "output_type": "stream",
     "text": [
      "84.0909090909091\n"
     ]
    }
   ],
   "source": [
    "# real team 11 line up overall rating\n",
    "print((90+85+80+81+86+79+85+85+85+86+83)/11)"
   ]
  },
  {
   "cell_type": "code",
   "execution_count": 9,
   "id": "ecfc0076",
   "metadata": {},
   "outputs": [],
   "source": [
    "new_23_ability = []\n",
    "new_23_name = []\n",
    "new_foot = []\n",
    "for i in range(num):\n",
    "    if sum(n[i,j].x for j in range(27)) ==1:\n",
    "        new_23_ability.append(ability[i].tolist())\n",
    "        new_23_name.append(name[i])\n",
    "        new_foot.append(foot[i])\n",
    "num = len(new_23_name)\n",
    "new_23_name = [p+' : '+ item for item in new_23_name for p in pn]"
   ]
  },
  {
   "cell_type": "code",
   "execution_count": 10,
   "id": "c3f74726",
   "metadata": {},
   "outputs": [
    {
     "data": {
      "text/plain": [
       "<gurobi.Constr *Awaiting Model Update*>"
      ]
     },
     "execution_count": 10,
     "metadata": {},
     "output_type": "execute_result"
    }
   ],
   "source": [
    "# No prior formation\n",
    "model = gb.Model(\"best11\")\n",
    "#model.setParam('MIPGap', 0.00001)\n",
    "# We ask Gurobi not to print too much on screen\n",
    "model.Params.OutputFlag = 0\n",
    "\n",
    "# Your code here:\n",
    "n = model.addVars(num,27,vtype = GRB.BINARY,name=new_23_name)\n",
    "total = quicksum(n[i,j]*new_23_ability[i][j] for i in range(num) for j in range(27))\n",
    "model.setObjective(total/11, GRB.MAXIMIZE)\n",
    "for i in range(num):\n",
    "    model.addConstr(sum(n[i,j] for j in range(27))<=1)\n",
    "model.addConstr(sum(n[i,j] for i in range(num) for j in range(27))==11)\n",
    "\n",
    "# goal keeper equal to 1\n",
    "model.addConstr(sum(n[i,26] for i in range(num))==1)\n",
    "\n",
    "# forward at least 1\n",
    "model.addConstr(sum(n[i,1] for i in range(num)) + sum(n[i,5] for i in range(num))>=1)\n",
    "\n",
    "# lb,lwb and rb,rwb only 1 each\n",
    "model.addConstr(sum(n[i,21]+n[i,16] for i in range(num)) ==1)\n",
    "\n",
    "model.addConstr(sum(n[i,25]+n[i,20] for i in range(num)) ==1)\n",
    "\n",
    "# if has lwb then must have rwb and must have one CB\n",
    "model.addConstr(sum(n[i,16] for i in range(num)) == sum(n[i,20] for i in range(num)))\n",
    "model.addConstr(sum(n[i,16] for i in range(num)) == sum(n[i,23] for i in range(num)))\n",
    "\n",
    "# if has lb then must have rb\n",
    "model.addConstr(sum(n[i,25] for i in range(num)) == sum(n[i,21] for i in range(num)))\n",
    "\n",
    "# rcb and lcb only 1 each\n",
    "model.addConstr(sum(n[i,22] for i in range(num)) ==1)\n",
    "model.addConstr(sum(n[i,24] for i in range(num)) ==1)\n",
    "\n",
    "# lb must has preferred_foot at left and rb must has preferred_foot at right\n",
    "\n",
    "model.addConstrs(n[i,21]<= new_foot[i] for i in range(num))\n",
    "model.addConstrs(n[i,16]<= new_foot[i] for i in range(num))\n",
    "\n",
    "model.addConstrs(n[i,25] + new_foot[i] <= 1 for i in range(num))\n",
    "model.addConstrs(n[i,20] + new_foot[i] <= 1 for i in range(num))\n",
    "\n",
    "# Each position only can be 1 players\n",
    "model.addConstrs(sum(n[i,j] for i in range(num)) <=1 for j in range(27))\n",
    "\n",
    "# Number of left side and Right side should be equal\n",
    "l = sum(n[i,0] +n[i,3]+n[i,4]+n[i,8]+n[i,11]+n[i,12]+n[i,16]+n[i,17]+n[i,21] for i in range(num))\n",
    "r = sum(n[i,2] +n[i,6]+n[i,7]+n[i,10]+n[i,14]+n[i,15]+n[i,19]+n[i,20]+n[i,25] for i in range(num))\n",
    "model.addConstr(l==r)\n",
    "\n",
    "rf = sum(n[i,6]+n[i,7]+n[i,15] for i in range(num))\n",
    "lf = sum(n[i,3]+n[i,4]+n[i,11] for i in range(num))\n",
    "model.addConstr(lf==rf)\n",
    "\n",
    "# Midfield at least 2\n",
    "f = sum(n[i,12] +n[i,13]+n[i,14]+n[i,17]+n[i,18]+n[i,19] for i in range(num))\n",
    "model.addConstr(f >=2)"
   ]
  },
  {
   "cell_type": "code",
   "execution_count": 11,
   "id": "572615b5",
   "metadata": {},
   "outputs": [
    {
     "name": "stdout",
     "output_type": "stream",
     "text": [
      "gk : M. Neuer\n",
      "rcm : T. Kroos\n",
      "lcb : M. Hummels\n",
      "lam : M. Özil\n",
      "rcb : J. Boateng\n",
      "st : T. Müller\n",
      "rm : L. Sané\n",
      "cdm : S. Khedira\n",
      "lm : M. Reus\n",
      "rb : J. Kimmich\n",
      "lb : J. Hector\n",
      "overall rating is:  86.09090909090911\n"
     ]
    }
   ],
   "source": [
    "model.optimize()\n",
    "for v in model.getVars():\n",
    "       if v.x > 0:\n",
    "            print(v.varName)\n",
    "print('overall rating is: ',model.objVal)"
   ]
  },
  {
   "cell_type": "code",
   "execution_count": 12,
   "id": "07feca49",
   "metadata": {},
   "outputs": [
    {
     "data": {
      "text/plain": [
       "<gurobi.Constr *Awaiting Model Update*>"
      ]
     },
     "execution_count": 12,
     "metadata": {},
     "output_type": "execute_result"
    }
   ],
   "source": [
    "#3 back formation\n",
    "model = gb.Model(\"3back best11\")\n",
    "#model.setParam('MIPGap', 0.00001)\n",
    "# We ask Gurobi not to print too much on screen\n",
    "model.Params.OutputFlag = 0\n",
    "\n",
    "# Your code here:\n",
    "n = model.addVars(num,27,vtype = GRB.BINARY,name=new_23_name)\n",
    "total = quicksum(n[i,j]*new_23_ability[i][j] for i in range(num) for j in range(27))\n",
    "model.setObjective(total/11, GRB.MAXIMIZE)\n",
    "for i in range(num):\n",
    "    model.addConstr(sum(n[i,j] for j in range(27))<=1)\n",
    "model.addConstr(sum(n[i,j] for i in range(num) for j in range(27))==11)\n",
    "\n",
    "# goal keeper equal to 1\n",
    "model.addConstr(sum(n[i,26] for i in range(num))==1)\n",
    "\n",
    "# forward at least 1\n",
    "model.addConstr(sum(n[i,1] for i in range(num)) + sum(n[i,5] for i in range(num))>=1)\n",
    "\n",
    "# no lb and rb 1 each\n",
    "model.addConstr(sum(n[i,21] for i in range(num)) ==0)\n",
    "\n",
    "model.addConstr(sum(n[i,25] for i in range(num)) ==0)\n",
    "\n",
    "# lb,lwb and rb,rwb only 1 each\n",
    "model.addConstr(sum(n[i,21]+n[i,16] for i in range(num)) ==1)\n",
    "\n",
    "model.addConstr(sum(n[i,25]+n[i,20] for i in range(num)) ==1)\n",
    "\n",
    "# one CB\n",
    "model.addConstr(sum(n[i,23] for i in range(num)) == 1)\n",
    "\n",
    "# rcb and lcb only 1 each\n",
    "model.addConstr(sum(n[i,22] for i in range(num)) ==1)\n",
    "model.addConstr(sum(n[i,24] for i in range(num)) ==1)\n",
    "\n",
    "# lb must has preferred_foot at left and rb must has preferred_foot at right\n",
    "\n",
    "model.addConstrs(n[i,21]<= new_foot[i] for i in range(num))\n",
    "model.addConstrs(n[i,16]<= new_foot[i] for i in range(num))\n",
    "\n",
    "model.addConstrs(n[i,25] + new_foot[i] <= 1 for i in range(num))\n",
    "model.addConstrs(n[i,20] + new_foot[i] <= 1 for i in range(num))\n",
    "\n",
    "# Each position only can be 1 players\n",
    "model.addConstrs(sum(n[i,j] for i in range(num)) <=1 for j in range(27))\n",
    "\n",
    "# Number of left side and Right side should be equal\n",
    "l = sum(n[i,0] +n[i,3]+n[i,4]+n[i,8]+n[i,11]+n[i,12]+n[i,16]+n[i,17]+n[i,21] for i in range(num))\n",
    "r = sum(n[i,2] +n[i,6]+n[i,7]+n[i,10]+n[i,14]+n[i,15]+n[i,19]+n[i,20]+n[i,25] for i in range(num))\n",
    "model.addConstr(l==r)\n",
    "\n",
    "rf = sum(n[i,6]+n[i,7]+n[i,15] for i in range(num))\n",
    "lf = sum(n[i,3]+n[i,4]+n[i,11] for i in range(num))\n",
    "model.addConstr(lf==rf)\n",
    "\n",
    "\n",
    "# Midfield at least 2\n",
    "f = sum(n[i,12] +n[i,13]+n[i,14]+n[i,17]+n[i,18]+n[i,19] for i in range(num))\n",
    "model.addConstr(f >=2)"
   ]
  },
  {
   "cell_type": "code",
   "execution_count": 13,
   "id": "1e95a77d",
   "metadata": {},
   "outputs": [
    {
     "name": "stdout",
     "output_type": "stream",
     "text": [
      "gk : M. Neuer\n",
      "cm : T. Kroos\n",
      "cb : M. Hummels\n",
      "ram : M. Özil\n",
      "lcb : J. Boateng\n",
      "st : T. Müller\n",
      "lcm : S. Khedira\n",
      "cam : M. Reus\n",
      "rwb : J. Kimmich\n",
      "rcb : N. Süle\n",
      "lwb : J. Hector\n",
      "overall rating is:  86.00000000000001\n"
     ]
    }
   ],
   "source": [
    "model.optimize()\n",
    "for v in model.getVars():\n",
    "       if v.x > 0:\n",
    "            print(v.varName)\n",
    "print('overall rating is: ',model.objVal)"
   ]
  }
 ],
 "metadata": {
  "kernelspec": {
   "display_name": "Python 3 (ipykernel)",
   "language": "python",
   "name": "python3"
  },
  "language_info": {
   "codemirror_mode": {
    "name": "ipython",
    "version": 3
   },
   "file_extension": ".py",
   "mimetype": "text/x-python",
   "name": "python",
   "nbconvert_exporter": "python",
   "pygments_lexer": "ipython3",
   "version": "3.11.4"
  }
 },
 "nbformat": 4,
 "nbformat_minor": 5
}
