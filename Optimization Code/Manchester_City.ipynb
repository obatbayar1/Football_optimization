{
 "cells": [
  {
   "cell_type": "markdown",
   "id": "f84bb96a",
   "metadata": {},
   "source": [
    "### Load libraries"
   ]
  },
  {
   "cell_type": "code",
   "execution_count": 1,
   "id": "10aa560a",
   "metadata": {},
   "outputs": [],
   "source": [
    "import pandas as pd\n",
    "import pandas as pd\n",
    "import gurobipy as gp\n",
    "from gurobipy import GRB\n",
    "from sklearn.metrics.pairwise import cosine_similarity"
   ]
  },
  {
   "cell_type": "markdown",
   "id": "6001e7ba",
   "metadata": {},
   "source": [
    "### Import dataset"
   ]
  },
  {
   "cell_type": "code",
   "execution_count": 2,
   "id": "e0e98602",
   "metadata": {},
   "outputs": [
    {
     "name": "stderr",
     "output_type": "stream",
     "text": [
      "C:\\Users\\oyund\\AppData\\Local\\Temp\\ipykernel_22224\\2569618666.py:1: DtypeWarning: Columns (108) have mixed types. Specify dtype option on import or set low_memory=False.\n",
      "  df = pd.read_csv(\"male_players (legacy).csv\")\n"
     ]
    }
   ],
   "source": [
    "df = pd.read_csv(\"male_players (legacy).csv\")"
   ]
  },
  {
   "cell_type": "markdown",
   "id": "fc208060",
   "metadata": {},
   "source": [
    "# OPTIMIZATION: Football Player Selection & Acquisition\n",
    "\n",
    "## Data Pre-Processing\n",
    "\n",
    "1. **Create Dummies for Roles/Positions**\n",
    "   - Assign dummy variables for each player's role or position in the team.\n",
    "\n",
    "&nbsp;\n",
    "\n",
    "2. **Calculate Adaptation Score for Players**\n",
    "   - **Factors:**\n",
    "     1. Whether they have been coached by Pep Guardiola.\n",
    "     2. Whether they have been in teams coached by coaches similar to Pep Guardiola.\n",
    "\n",
    "&nbsp;\n",
    "\n",
    "3. **Create Column for Position Count**\n",
    "   - Since position column consists of positions separated by a comma, the aim here is to extract those and count the #\n",
    "   - This could be useful for formulating a constraint based on positional fluidity\n",
    "   - not necessary\n",
    "\n",
    "&nbsp;\n",
    "\n",
    "4. **Separate Work Rate into Two Columns**\n",
    "   - Columns: `attacking_work_rate` and `defending_work_rate`.\n",
    "   - Ranking System:\n",
    "     - Low - 1\n",
    "     - Medium - 2\n",
    "     - High - 3\n",
    "\n",
    "&nbsp;\n",
    "\n",
    "5. **Identify Injury-Prone Players** (Did not end up using)\n",
    "   - Analyze `player_traits` to find players prone to injuries.\n",
    "   - Consider minimizing the presence of such players in one of the objective functions.\n",
    "   - potentially accounted into other factors, not necessary\n",
    "\n",
    "&nbsp;\n",
    "   \n",
    "5. **Identify Players with Expiring Contracts**\n",
    "   - Assuming they are more likely to be available for buy out. \n"
   ]
  },
  {
   "cell_type": "markdown",
   "id": "8b8587f4",
   "metadata": {},
   "source": [
    "## STEP 1A. DUMMIFY ROLES"
   ]
  },
  {
   "cell_type": "code",
   "execution_count": 3,
   "id": "e29c64e1",
   "metadata": {},
   "outputs": [
    {
     "name": "stdout",
     "output_type": "stream",
     "text": [
      "['player_id', 'player_url', 'fifa_version', 'fifa_update', 'fifa_update_date', 'short_name', 'long_name', 'player_positions', 'overall', 'potential', 'value_eur', 'wage_eur', 'age', 'dob', 'height_cm', 'weight_kg', 'league_id', 'league_name', 'league_level', 'club_team_id', 'club_name', 'club_position', 'club_jersey_number', 'club_loaned_from', 'club_joined_date', 'club_contract_valid_until_year', 'nationality_id', 'nationality_name', 'nation_team_id', 'nation_position', 'nation_jersey_number', 'preferred_foot', 'weak_foot', 'skill_moves', 'international_reputation', 'work_rate', 'body_type', 'real_face', 'release_clause_eur', 'player_tags', 'player_traits', 'pace', 'shooting', 'passing', 'dribbling', 'defending', 'physic', 'attacking_crossing', 'attacking_finishing', 'attacking_heading_accuracy', 'attacking_short_passing', 'attacking_volleys', 'skill_dribbling', 'skill_curve', 'skill_fk_accuracy', 'skill_long_passing', 'skill_ball_control', 'movement_acceleration', 'movement_sprint_speed', 'movement_agility', 'movement_reactions', 'movement_balance', 'power_shot_power', 'power_jumping', 'power_stamina', 'power_strength', 'power_long_shots', 'mentality_aggression', 'mentality_interceptions', 'mentality_positioning', 'mentality_vision', 'mentality_penalties', 'mentality_composure', 'defending_marking_awareness', 'defending_standing_tackle', 'defending_sliding_tackle', 'goalkeeping_diving', 'goalkeeping_handling', 'goalkeeping_kicking', 'goalkeeping_positioning', 'goalkeeping_reflexes', 'goalkeeping_speed', 'ls', 'st', 'rs', 'lw', 'lf', 'cf', 'rf', 'rw', 'lam', 'cam', 'ram', 'lm', 'lcm', 'cm', 'rcm', 'rm', 'lwb', 'ldm', 'cdm', 'rdm', 'rwb', 'lb', 'lcb', 'cb', 'rcb', 'rb', 'gk', 'player_face_url', 'positions_list', 'role_CAM', 'role_CB', 'role_CDM', 'role_CF', 'role_CM', 'role_GK', 'role_LB', 'role_LM', 'role_LW', 'role_LWB', 'role_RB', 'role_RM', 'role_RW', 'role_RWB', 'role_ST']\n"
     ]
    }
   ],
   "source": [
    "############ STEP 1A. DUMMIFY ROLES #################################\n",
    "import pandas as pd\n",
    "from sklearn.preprocessing import MultiLabelBinarizer\n",
    "\n",
    "# fill nan values\n",
    "#df['player_positions'] = df['player_positions'].fillna('')\n",
    "\n",
    "df['positions_list'] = df['player_positions'].str.split(',')\n",
    "\n",
    "# strip whitespace and convert to upper case\n",
    "df['positions_list'] = df['positions_list'].apply(lambda x: [pos.strip().upper() for pos in x])\n",
    "\n",
    "# apply MultiLabelBinarizer\n",
    "mlb = MultiLabelBinarizer()\n",
    "roles_encoded = mlb.fit_transform(df['positions_list'])\n",
    "\n",
    "roles_df = pd.DataFrame(roles_encoded, columns=mlb.classes_)\n",
    "\n",
    "df.reset_index(drop=True, inplace=True)\n",
    "roles_df.reset_index(drop=True, inplace=True)\n",
    "\n",
    "# Rename columns in roles_df to avoid overlap\n",
    "roles_df.columns = ['role_' + col for col in roles_df.columns]\n",
    "\n",
    "# Concatenate\n",
    "df = pd.concat([df, roles_df], axis=1)\n",
    "\n",
    "all_columns = df.columns\n",
    "all_columns_list = all_columns.tolist()\n",
    "print(all_columns_list)\n",
    "\n"
   ]
  },
  {
   "cell_type": "code",
   "execution_count": 4,
   "id": "938ada11",
   "metadata": {},
   "outputs": [],
   "source": [
    "# Unnecessary step but keeping it for now since other codes rely on this\n",
    "\n",
    "role_to_formation = {\n",
    "    'role_GK': 'GK',\n",
    "    'role_RB': 'RB',\n",
    "    'role_CB': 'CB',\n",
    "    'role_LB': 'LB',\n",
    "    'role_RW': 'RW',\n",
    "    'role_CM': 'CM',\n",
    "    'role_LW': 'LW',\n",
    "    'role_CAM': 'CAM',\n",
    "    'role_CF': 'CF',\n",
    "    'role_ST': 'ST',\n",
    "    'role_CDM': 'CDM', \n",
    "    'role_LM': 'LM',   \n",
    "    'role_RM': 'RM',  \n",
    "    'role_RWB': 'RWB', \n",
    "    'role_LWB': 'LWB',  \n",
    "}\n",
    "\n",
    "# Initialize new columns for each formation position\n",
    "for formation in set(role_to_formation.values()):\n",
    "    df[formation] = 0\n",
    "\n",
    "# Update the new columns based on the original role columns\n",
    "for role, formation in role_to_formation.items():\n",
    "    if role in df.columns:\n",
    "        df[formation] += df[role]\n",
    "\n",
    "# Optionally, drop the original role columns\n",
    "df.drop(columns=[role for role in role_to_formation.keys()], inplace=True)\n",
    "\n",
    "#df"
   ]
  },
  {
   "cell_type": "markdown",
   "id": "a2aae846",
   "metadata": {},
   "source": [
    "## STEP 1B. ADAPTATION SCORE"
   ]
  },
  {
   "cell_type": "code",
   "execution_count": 5,
   "id": "950d2076",
   "metadata": {},
   "outputs": [],
   "source": [
    "########## STEP 1B ADAPTATION SCORE #########################\n",
    "\n",
    "# Filter for the 2016-2017 season\n",
    "df['fifa_update_date'] = pd.to_datetime(df['fifa_update_date'])\n",
    "season_start = pd.to_datetime('2015-09-21')\n",
    "#season_end = pd.to_datetime('2017-06-30')\n",
    "\n",
    "# Convert the fifa_update_date column to datetime\n",
    "df['fifa_update_date'] = pd.to_datetime(df['fifa_update_date'])\n",
    "season_start = pd.to_datetime('2015-09-21')\n",
    "\n",
    "# List of club_team_ids for teams with similar styles as explained above \n",
    "club_team_ids = [21, 241, 22, 9, 18, 112172, 191, 245, 19, 110831, 472, 110556, 39, 448, 1909, 23, 72]\n",
    "\n",
    "# Filter for player history before the season start and with specified club_team_ids\n",
    "historical_df = df[(df['fifa_update_date'] < season_start) & (df['club_team_id'].isin(club_team_ids))]\n",
    "\n",
    "# Check if players were in the specified teams before 2016\n",
    "player_experience = historical_df.groupby('player_id').size().reset_index(name='counts')\n",
    "\n",
    "# Merge \n",
    "df = df.merge(player_experience[['player_id', 'counts']], on='player_id', how='left')\n",
    "\n",
    "# Assign adaptation scores \n",
    "df['adaptation_score'] = df['counts'].apply(lambda x: 1.0 if x > 0 else 0.5)\n",
    "\n",
    "df.drop(columns='counts', inplace=True)"
   ]
  },
  {
   "cell_type": "markdown",
   "id": "1052d9cd",
   "metadata": {},
   "source": [
    "## STEP 1C: COLUMN FOR POSITION COUNT"
   ]
  },
  {
   "cell_type": "code",
   "execution_count": 6,
   "id": "f65f963a",
   "metadata": {},
   "outputs": [],
   "source": [
    "df['position_count'] = df['player_positions'].apply(lambda x: len(x.split(',')))"
   ]
  },
  {
   "cell_type": "markdown",
   "id": "a1456d57",
   "metadata": {},
   "source": [
    "## STEP 1D: SEPARATE AND RANK WORK_RATE COLUMN"
   ]
  },
  {
   "cell_type": "code",
   "execution_count": 7,
   "id": "a53a5b05",
   "metadata": {},
   "outputs": [],
   "source": [
    "# Split the 'work_rate' column into two new columns\n",
    "df[['attacking_work_rate', 'defending_work_rate']] = df['work_rate'].str.split('/', expand=True)\n",
    "\n",
    "def replace_work_rate(value):\n",
    "    mapping = {'Low': 1, 'Medium': 2, 'High': 3}\n",
    "    return mapping.get(value.strip().capitalize(), value)\n",
    "\n",
    "df['attacking_work_rate'] = df['attacking_work_rate'].apply(replace_work_rate)\n",
    "df['defending_work_rate'] = df['defending_work_rate'].apply(replace_work_rate)"
   ]
  },
  {
   "cell_type": "markdown",
   "id": "8c924832",
   "metadata": {},
   "source": [
    "## STEP 1E. INJURY PRONE PLAYERS"
   ]
  },
  {
   "cell_type": "code",
   "execution_count": 8,
   "id": "af3e62d0",
   "metadata": {},
   "outputs": [],
   "source": [
    "df['player_traits'] = df['player_traits'].fillna('')\n",
    "df['injury_prone'] = df['player_traits'].str.contains('injury prone', case=False).astype(int)"
   ]
  },
  {
   "cell_type": "markdown",
   "id": "8d52ab9a",
   "metadata": {},
   "source": [
    "## STEP 1F: CONTRACT EXPIRING SOON"
   ]
  },
  {
   "cell_type": "code",
   "execution_count": 9,
   "id": "b8e781fe",
   "metadata": {},
   "outputs": [],
   "source": [
    "df['club_expiry_soon'] = df['club_contract_valid_until_year'].apply(lambda x: 1 if x in [2016, 2017, 2018, 2019] else 0)"
   ]
  },
  {
   "cell_type": "markdown",
   "id": "80911bc7",
   "metadata": {},
   "source": [
    "# NOW, OUR MAIN FOCUS: \n",
    "\n",
    "### Filter by season: Our choice is 2016-2017. "
   ]
  },
  {
   "cell_type": "code",
   "execution_count": 10,
   "id": "9aface60",
   "metadata": {},
   "outputs": [],
   "source": [
    "#filtered_df = df[(df['fifa_update_date'] >= season_start) & (df['fifa_update_date'] <= season_end)]\n",
    "\n",
    "filtered_df = df[(df['fifa_update_date'] == season_start)]\n",
    "#filtered_df"
   ]
  },
  {
   "cell_type": "markdown",
   "id": "056f0cef",
   "metadata": {},
   "source": [
    "### Our team of choice: Manchester City"
   ]
  },
  {
   "cell_type": "code",
   "execution_count": 11,
   "id": "a20f6d48",
   "metadata": {},
   "outputs": [],
   "source": [
    "# Separate Manchester City players from other teams' players\n",
    "man_city_players = filtered_df[filtered_df['club_name'] == 'Manchester City'].dropna(subset=['overall'])\n",
    "other_teams_players = filtered_df[filtered_df['club_name'] != 'Manchester City'].dropna(subset=['overall'])\n",
    "\n",
    "# Columns to drop\n",
    "columns_to_drop = ['player_url', 'ls', 'st', 'rs', 'lw', 'lf', 'cf', 'rf', 'rw', 'lam', 'cam', 'ram', 'lm', 'lcm', 'cm', 'rcm', 'rm', 'lwb', 'ldm', 'cdm', 'rdm', 'rwb', 'lb', 'lcb', 'cb', 'rcb', 'rb', 'gk', 'player_face_url']\n",
    "other_teams_players.drop(columns=columns_to_drop, inplace=True, errors='ignore')"
   ]
  },
  {
   "cell_type": "code",
   "execution_count": 12,
   "id": "2aa2cab7",
   "metadata": {},
   "outputs": [],
   "source": [
    "#man_city_players\n",
    "\n",
    "#man_city_players.to_csv('man_city.csv', index=False)"
   ]
  },
  {
   "cell_type": "code",
   "execution_count": 13,
   "id": "e98e845f",
   "metadata": {},
   "outputs": [],
   "source": [
    "#other_teams_players.to_csv(\"other_teams.csv\", index = False)"
   ]
  },
  {
   "cell_type": "code",
   "execution_count": 14,
   "id": "8a4ee63b",
   "metadata": {},
   "outputs": [],
   "source": [
    "#Other team players whose attacking_crossing and attacking_finishing is bigger than 70 and \n",
    "# player current overall attribute is bigger than 70\n",
    "other_teams_players = other_teams_players[\n",
    "    (other_teams_players['attacking_crossing'] > 70) & \n",
    "    (other_teams_players['attacking_finishing'] > 70) &\n",
    "    (other_teams_players['overall'] > 70)\n",
    "]"
   ]
  },
  {
   "cell_type": "markdown",
   "id": "65b34bb7",
   "metadata": {},
   "source": [
    "# Optimization 1: Selecting 25 players for registration\n",
    "\n",
    "1. **Initialize Model**\n",
    "   - This model will focus on maximizing 'potential' score of players in MC. \n",
    "\n",
    "&nbsp;\n",
    "\n",
    "2. **Decision Variables**\n",
    "     1. Binary variables for Manchester City players.\n",
    "     2. Binary variables for players from other teams.\n",
    "\n",
    "&nbsp;\n",
    "\n",
    "3. **Objective Function**\n",
    "   - Maximize the 'potential' score of Manchester City based on selected players.\n",
    "   - Give a boost for players from other teams with higher adaptation scores. \n",
    "\n",
    "&nbsp;\n",
    "\n",
    "4. **Constraints**\n",
    "   - Define position groups.\n",
    "   - Budget Constraint: For players being bought, cannot spend no more than 150M euros.\n",
    "   - Players bought are more likely to be players with expiring contracts.\n",
    "   - Can buy at most 4 players from other teams\n",
    "   - The total number of players for registration should be 25. \n"
   ]
  },
  {
   "cell_type": "code",
   "execution_count": 15,
   "id": "67fb29f6",
   "metadata": {},
   "outputs": [
    {
     "name": "stdout",
     "output_type": "stream",
     "text": [
      "Set parameter Username\n",
      "Academic license - for non-commercial use only - expires 2024-11-12\n"
     ]
    }
   ],
   "source": [
    "import gurobipy as gb\n",
    "from gurobipy import GRB, quicksum\n",
    "\n",
    "model = gb.Model(\"Maximize Team Performance\")\n",
    "\n",
    "# Define decision variables: 1 if a player is chosen for the team, 0 otherwise\n",
    "player_vars = model.addVars(man_city_players.index, vtype=GRB.BINARY, name=\"player\")\n",
    "other_player_vars = model.addVars(other_teams_players.index, vtype=GRB.BINARY, name=\"other_player\")"
   ]
  },
  {
   "cell_type": "code",
   "execution_count": 16,
   "id": "e0960021",
   "metadata": {},
   "outputs": [],
   "source": [
    "objective_expr = gp.LinExpr()\n",
    "for i in man_city_players.index:\n",
    "    # Boost the player's overall rating using the adaptation score\n",
    "    boosted_overall_rating = man_city_players['potential'][i]\n",
    "    objective_expr += player_vars[i] * boosted_overall_rating\n",
    "for i in other_teams_players.index:\n",
    "    # Boost the player's overall rating using the adaptation score\n",
    "    boosted_overall_rating = other_teams_players['potential'][i] + (other_teams_players['adaptation_score'][i])\n",
    "    objective_expr += other_player_vars[i] * boosted_overall_rating\n",
    "model.setObjective(objective_expr, GRB.MAXIMIZE)"
   ]
  },
  {
   "cell_type": "code",
   "execution_count": 17,
   "id": "4e8d45db",
   "metadata": {},
   "outputs": [
    {
     "data": {
      "text/plain": [
       "<gurobi.Constr *Awaiting Model Update*>"
      ]
     },
     "execution_count": 17,
     "metadata": {},
     "output_type": "execute_result"
    }
   ],
   "source": [
    "# The budget constraint for trading players should be no more than 150 million Euro\n",
    "model.addConstr(\n",
    "    gb.quicksum(other_player_vars[i] * other_teams_players.loc[i, 'value_eur'] for i in other_teams_players.index) <= 150000000,\n",
    "    \"Budget\"\n",
    ")"
   ]
  },
  {
   "cell_type": "code",
   "execution_count": 18,
   "id": "d0922f4a",
   "metadata": {},
   "outputs": [
    {
     "data": {
      "text/plain": [
       "{16182: <gurobi.Constr *Awaiting Model Update*>,\n",
       " 16183: <gurobi.Constr *Awaiting Model Update*>,\n",
       " 16184: <gurobi.Constr *Awaiting Model Update*>,\n",
       " 16186: <gurobi.Constr *Awaiting Model Update*>,\n",
       " 16187: <gurobi.Constr *Awaiting Model Update*>,\n",
       " 16188: <gurobi.Constr *Awaiting Model Update*>,\n",
       " 16189: <gurobi.Constr *Awaiting Model Update*>,\n",
       " 16192: <gurobi.Constr *Awaiting Model Update*>,\n",
       " 16197: <gurobi.Constr *Awaiting Model Update*>,\n",
       " 16198: <gurobi.Constr *Awaiting Model Update*>,\n",
       " 16199: <gurobi.Constr *Awaiting Model Update*>,\n",
       " 16200: <gurobi.Constr *Awaiting Model Update*>,\n",
       " 16201: <gurobi.Constr *Awaiting Model Update*>,\n",
       " 16202: <gurobi.Constr *Awaiting Model Update*>,\n",
       " 16205: <gurobi.Constr *Awaiting Model Update*>,\n",
       " 16206: <gurobi.Constr *Awaiting Model Update*>,\n",
       " 16207: <gurobi.Constr *Awaiting Model Update*>,\n",
       " 16208: <gurobi.Constr *Awaiting Model Update*>,\n",
       " 16209: <gurobi.Constr *Awaiting Model Update*>,\n",
       " 16212: <gurobi.Constr *Awaiting Model Update*>,\n",
       " 16213: <gurobi.Constr *Awaiting Model Update*>,\n",
       " 16214: <gurobi.Constr *Awaiting Model Update*>,\n",
       " 16216: <gurobi.Constr *Awaiting Model Update*>,\n",
       " 16225: <gurobi.Constr *Awaiting Model Update*>,\n",
       " 16231: <gurobi.Constr *Awaiting Model Update*>,\n",
       " 16236: <gurobi.Constr *Awaiting Model Update*>,\n",
       " 16237: <gurobi.Constr *Awaiting Model Update*>,\n",
       " 16241: <gurobi.Constr *Awaiting Model Update*>,\n",
       " 16244: <gurobi.Constr *Awaiting Model Update*>,\n",
       " 16246: <gurobi.Constr *Awaiting Model Update*>,\n",
       " 16251: <gurobi.Constr *Awaiting Model Update*>,\n",
       " 16255: <gurobi.Constr *Awaiting Model Update*>,\n",
       " 16256: <gurobi.Constr *Awaiting Model Update*>,\n",
       " 16257: <gurobi.Constr *Awaiting Model Update*>,\n",
       " 16259: <gurobi.Constr *Awaiting Model Update*>,\n",
       " 16264: <gurobi.Constr *Awaiting Model Update*>,\n",
       " 16271: <gurobi.Constr *Awaiting Model Update*>,\n",
       " 16272: <gurobi.Constr *Awaiting Model Update*>,\n",
       " 16284: <gurobi.Constr *Awaiting Model Update*>,\n",
       " 16286: <gurobi.Constr *Awaiting Model Update*>,\n",
       " 16289: <gurobi.Constr *Awaiting Model Update*>,\n",
       " 16294: <gurobi.Constr *Awaiting Model Update*>,\n",
       " 16297: <gurobi.Constr *Awaiting Model Update*>,\n",
       " 16299: <gurobi.Constr *Awaiting Model Update*>,\n",
       " 16302: <gurobi.Constr *Awaiting Model Update*>,\n",
       " 16303: <gurobi.Constr *Awaiting Model Update*>,\n",
       " 16305: <gurobi.Constr *Awaiting Model Update*>,\n",
       " 16311: <gurobi.Constr *Awaiting Model Update*>,\n",
       " 16316: <gurobi.Constr *Awaiting Model Update*>,\n",
       " 16322: <gurobi.Constr *Awaiting Model Update*>,\n",
       " 16326: <gurobi.Constr *Awaiting Model Update*>,\n",
       " 16327: <gurobi.Constr *Awaiting Model Update*>,\n",
       " 16331: <gurobi.Constr *Awaiting Model Update*>,\n",
       " 16335: <gurobi.Constr *Awaiting Model Update*>,\n",
       " 16337: <gurobi.Constr *Awaiting Model Update*>,\n",
       " 16338: <gurobi.Constr *Awaiting Model Update*>,\n",
       " 16341: <gurobi.Constr *Awaiting Model Update*>,\n",
       " 16347: <gurobi.Constr *Awaiting Model Update*>,\n",
       " 16351: <gurobi.Constr *Awaiting Model Update*>,\n",
       " 16353: <gurobi.Constr *Awaiting Model Update*>,\n",
       " 16361: <gurobi.Constr *Awaiting Model Update*>,\n",
       " 16364: <gurobi.Constr *Awaiting Model Update*>,\n",
       " 16365: <gurobi.Constr *Awaiting Model Update*>,\n",
       " 16375: <gurobi.Constr *Awaiting Model Update*>,\n",
       " 16379: <gurobi.Constr *Awaiting Model Update*>,\n",
       " 16383: <gurobi.Constr *Awaiting Model Update*>,\n",
       " 16389: <gurobi.Constr *Awaiting Model Update*>,\n",
       " 16396: <gurobi.Constr *Awaiting Model Update*>,\n",
       " 16397: <gurobi.Constr *Awaiting Model Update*>,\n",
       " 16409: <gurobi.Constr *Awaiting Model Update*>,\n",
       " 16410: <gurobi.Constr *Awaiting Model Update*>,\n",
       " 16414: <gurobi.Constr *Awaiting Model Update*>,\n",
       " 16415: <gurobi.Constr *Awaiting Model Update*>,\n",
       " 16419: <gurobi.Constr *Awaiting Model Update*>,\n",
       " 16420: <gurobi.Constr *Awaiting Model Update*>,\n",
       " 16421: <gurobi.Constr *Awaiting Model Update*>,\n",
       " 16431: <gurobi.Constr *Awaiting Model Update*>,\n",
       " 16438: <gurobi.Constr *Awaiting Model Update*>,\n",
       " 16442: <gurobi.Constr *Awaiting Model Update*>,\n",
       " 16453: <gurobi.Constr *Awaiting Model Update*>,\n",
       " 16458: <gurobi.Constr *Awaiting Model Update*>,\n",
       " 16461: <gurobi.Constr *Awaiting Model Update*>,\n",
       " 16463: <gurobi.Constr *Awaiting Model Update*>,\n",
       " 16480: <gurobi.Constr *Awaiting Model Update*>,\n",
       " 16481: <gurobi.Constr *Awaiting Model Update*>,\n",
       " 16484: <gurobi.Constr *Awaiting Model Update*>,\n",
       " 16487: <gurobi.Constr *Awaiting Model Update*>,\n",
       " 16495: <gurobi.Constr *Awaiting Model Update*>,\n",
       " 16498: <gurobi.Constr *Awaiting Model Update*>,\n",
       " 16500: <gurobi.Constr *Awaiting Model Update*>,\n",
       " 16502: <gurobi.Constr *Awaiting Model Update*>,\n",
       " 16505: <gurobi.Constr *Awaiting Model Update*>,\n",
       " 16509: <gurobi.Constr *Awaiting Model Update*>,\n",
       " 16516: <gurobi.Constr *Awaiting Model Update*>,\n",
       " 16520: <gurobi.Constr *Awaiting Model Update*>,\n",
       " 16523: <gurobi.Constr *Awaiting Model Update*>,\n",
       " 16526: <gurobi.Constr *Awaiting Model Update*>,\n",
       " 16537: <gurobi.Constr *Awaiting Model Update*>,\n",
       " 16541: <gurobi.Constr *Awaiting Model Update*>,\n",
       " 16546: <gurobi.Constr *Awaiting Model Update*>,\n",
       " 16548: <gurobi.Constr *Awaiting Model Update*>,\n",
       " 16554: <gurobi.Constr *Awaiting Model Update*>,\n",
       " 16555: <gurobi.Constr *Awaiting Model Update*>,\n",
       " 16561: <gurobi.Constr *Awaiting Model Update*>,\n",
       " 16565: <gurobi.Constr *Awaiting Model Update*>,\n",
       " 16566: <gurobi.Constr *Awaiting Model Update*>,\n",
       " 16567: <gurobi.Constr *Awaiting Model Update*>,\n",
       " 16569: <gurobi.Constr *Awaiting Model Update*>,\n",
       " 16571: <gurobi.Constr *Awaiting Model Update*>,\n",
       " 16573: <gurobi.Constr *Awaiting Model Update*>,\n",
       " 16580: <gurobi.Constr *Awaiting Model Update*>,\n",
       " 16595: <gurobi.Constr *Awaiting Model Update*>,\n",
       " 16609: <gurobi.Constr *Awaiting Model Update*>,\n",
       " 16620: <gurobi.Constr *Awaiting Model Update*>,\n",
       " 16632: <gurobi.Constr *Awaiting Model Update*>,\n",
       " 16636: <gurobi.Constr *Awaiting Model Update*>,\n",
       " 16637: <gurobi.Constr *Awaiting Model Update*>,\n",
       " 16645: <gurobi.Constr *Awaiting Model Update*>,\n",
       " 16648: <gurobi.Constr *Awaiting Model Update*>,\n",
       " 16650: <gurobi.Constr *Awaiting Model Update*>,\n",
       " 16651: <gurobi.Constr *Awaiting Model Update*>,\n",
       " 16652: <gurobi.Constr *Awaiting Model Update*>,\n",
       " 16656: <gurobi.Constr *Awaiting Model Update*>,\n",
       " 16657: <gurobi.Constr *Awaiting Model Update*>,\n",
       " 16669: <gurobi.Constr *Awaiting Model Update*>,\n",
       " 16671: <gurobi.Constr *Awaiting Model Update*>,\n",
       " 16672: <gurobi.Constr *Awaiting Model Update*>,\n",
       " 16682: <gurobi.Constr *Awaiting Model Update*>,\n",
       " 16683: <gurobi.Constr *Awaiting Model Update*>,\n",
       " 16684: <gurobi.Constr *Awaiting Model Update*>,\n",
       " 16688: <gurobi.Constr *Awaiting Model Update*>,\n",
       " 16689: <gurobi.Constr *Awaiting Model Update*>,\n",
       " 16692: <gurobi.Constr *Awaiting Model Update*>,\n",
       " 16696: <gurobi.Constr *Awaiting Model Update*>,\n",
       " 16698: <gurobi.Constr *Awaiting Model Update*>,\n",
       " 16701: <gurobi.Constr *Awaiting Model Update*>,\n",
       " 16707: <gurobi.Constr *Awaiting Model Update*>,\n",
       " 16709: <gurobi.Constr *Awaiting Model Update*>,\n",
       " 16715: <gurobi.Constr *Awaiting Model Update*>,\n",
       " 16716: <gurobi.Constr *Awaiting Model Update*>,\n",
       " 16720: <gurobi.Constr *Awaiting Model Update*>,\n",
       " 16727: <gurobi.Constr *Awaiting Model Update*>,\n",
       " 16728: <gurobi.Constr *Awaiting Model Update*>,\n",
       " 16734: <gurobi.Constr *Awaiting Model Update*>,\n",
       " 16736: <gurobi.Constr *Awaiting Model Update*>,\n",
       " 16737: <gurobi.Constr *Awaiting Model Update*>,\n",
       " 16739: <gurobi.Constr *Awaiting Model Update*>,\n",
       " 16744: <gurobi.Constr *Awaiting Model Update*>,\n",
       " 16748: <gurobi.Constr *Awaiting Model Update*>,\n",
       " 16768: <gurobi.Constr *Awaiting Model Update*>,\n",
       " 16771: <gurobi.Constr *Awaiting Model Update*>,\n",
       " 16773: <gurobi.Constr *Awaiting Model Update*>,\n",
       " 16788: <gurobi.Constr *Awaiting Model Update*>,\n",
       " 16790: <gurobi.Constr *Awaiting Model Update*>,\n",
       " 16794: <gurobi.Constr *Awaiting Model Update*>,\n",
       " 16796: <gurobi.Constr *Awaiting Model Update*>,\n",
       " 16818: <gurobi.Constr *Awaiting Model Update*>,\n",
       " 16819: <gurobi.Constr *Awaiting Model Update*>,\n",
       " 16820: <gurobi.Constr *Awaiting Model Update*>,\n",
       " 16830: <gurobi.Constr *Awaiting Model Update*>,\n",
       " 16831: <gurobi.Constr *Awaiting Model Update*>,\n",
       " 16841: <gurobi.Constr *Awaiting Model Update*>,\n",
       " 16844: <gurobi.Constr *Awaiting Model Update*>,\n",
       " 16845: <gurobi.Constr *Awaiting Model Update*>,\n",
       " 16850: <gurobi.Constr *Awaiting Model Update*>,\n",
       " 16851: <gurobi.Constr *Awaiting Model Update*>,\n",
       " 16854: <gurobi.Constr *Awaiting Model Update*>,\n",
       " 16870: <gurobi.Constr *Awaiting Model Update*>,\n",
       " 16872: <gurobi.Constr *Awaiting Model Update*>,\n",
       " 16882: <gurobi.Constr *Awaiting Model Update*>,\n",
       " 16885: <gurobi.Constr *Awaiting Model Update*>,\n",
       " 16886: <gurobi.Constr *Awaiting Model Update*>,\n",
       " 16888: <gurobi.Constr *Awaiting Model Update*>,\n",
       " 16894: <gurobi.Constr *Awaiting Model Update*>,\n",
       " 16898: <gurobi.Constr *Awaiting Model Update*>,\n",
       " 16899: <gurobi.Constr *Awaiting Model Update*>,\n",
       " 16901: <gurobi.Constr *Awaiting Model Update*>,\n",
       " 16904: <gurobi.Constr *Awaiting Model Update*>,\n",
       " 16910: <gurobi.Constr *Awaiting Model Update*>,\n",
       " 16916: <gurobi.Constr *Awaiting Model Update*>,\n",
       " 16929: <gurobi.Constr *Awaiting Model Update*>,\n",
       " 16937: <gurobi.Constr *Awaiting Model Update*>,\n",
       " 16944: <gurobi.Constr *Awaiting Model Update*>,\n",
       " 16966: <gurobi.Constr *Awaiting Model Update*>,\n",
       " 16970: <gurobi.Constr *Awaiting Model Update*>,\n",
       " 16976: <gurobi.Constr *Awaiting Model Update*>,\n",
       " 16982: <gurobi.Constr *Awaiting Model Update*>,\n",
       " 16993: <gurobi.Constr *Awaiting Model Update*>,\n",
       " 17004: <gurobi.Constr *Awaiting Model Update*>,\n",
       " 17006: <gurobi.Constr *Awaiting Model Update*>,\n",
       " 17009: <gurobi.Constr *Awaiting Model Update*>,\n",
       " 17015: <gurobi.Constr *Awaiting Model Update*>,\n",
       " 17018: <gurobi.Constr *Awaiting Model Update*>,\n",
       " 17019: <gurobi.Constr *Awaiting Model Update*>,\n",
       " 17025: <gurobi.Constr *Awaiting Model Update*>,\n",
       " 17027: <gurobi.Constr *Awaiting Model Update*>,\n",
       " 17032: <gurobi.Constr *Awaiting Model Update*>,\n",
       " 17034: <gurobi.Constr *Awaiting Model Update*>,\n",
       " 17053: <gurobi.Constr *Awaiting Model Update*>,\n",
       " 17057: <gurobi.Constr *Awaiting Model Update*>,\n",
       " 17078: <gurobi.Constr *Awaiting Model Update*>,\n",
       " 17097: <gurobi.Constr *Awaiting Model Update*>,\n",
       " 17103: <gurobi.Constr *Awaiting Model Update*>,\n",
       " 17104: <gurobi.Constr *Awaiting Model Update*>,\n",
       " 17108: <gurobi.Constr *Awaiting Model Update*>,\n",
       " 17111: <gurobi.Constr *Awaiting Model Update*>,\n",
       " 17124: <gurobi.Constr *Awaiting Model Update*>,\n",
       " 17147: <gurobi.Constr *Awaiting Model Update*>,\n",
       " 17148: <gurobi.Constr *Awaiting Model Update*>,\n",
       " 17154: <gurobi.Constr *Awaiting Model Update*>,\n",
       " 17157: <gurobi.Constr *Awaiting Model Update*>,\n",
       " 17161: <gurobi.Constr *Awaiting Model Update*>,\n",
       " 17196: <gurobi.Constr *Awaiting Model Update*>,\n",
       " 17211: <gurobi.Constr *Awaiting Model Update*>,\n",
       " 17228: <gurobi.Constr *Awaiting Model Update*>,\n",
       " 17242: <gurobi.Constr *Awaiting Model Update*>,\n",
       " 17251: <gurobi.Constr *Awaiting Model Update*>,\n",
       " 17271: <gurobi.Constr *Awaiting Model Update*>,\n",
       " 17306: <gurobi.Constr *Awaiting Model Update*>,\n",
       " 17322: <gurobi.Constr *Awaiting Model Update*>,\n",
       " 17325: <gurobi.Constr *Awaiting Model Update*>,\n",
       " 17328: <gurobi.Constr *Awaiting Model Update*>,\n",
       " 17342: <gurobi.Constr *Awaiting Model Update*>,\n",
       " 17344: <gurobi.Constr *Awaiting Model Update*>,\n",
       " 17346: <gurobi.Constr *Awaiting Model Update*>,\n",
       " 17377: <gurobi.Constr *Awaiting Model Update*>,\n",
       " 17383: <gurobi.Constr *Awaiting Model Update*>,\n",
       " 17402: <gurobi.Constr *Awaiting Model Update*>,\n",
       " 17411: <gurobi.Constr *Awaiting Model Update*>,\n",
       " 17419: <gurobi.Constr *Awaiting Model Update*>,\n",
       " 17452: <gurobi.Constr *Awaiting Model Update*>,\n",
       " 17480: <gurobi.Constr *Awaiting Model Update*>,\n",
       " 17500: <gurobi.Constr *Awaiting Model Update*>,\n",
       " 17523: <gurobi.Constr *Awaiting Model Update*>,\n",
       " 17530: <gurobi.Constr *Awaiting Model Update*>,\n",
       " 17553: <gurobi.Constr *Awaiting Model Update*>,\n",
       " 17556: <gurobi.Constr *Awaiting Model Update*>,\n",
       " 17568: <gurobi.Constr *Awaiting Model Update*>,\n",
       " 17569: <gurobi.Constr *Awaiting Model Update*>,\n",
       " 17573: <gurobi.Constr *Awaiting Model Update*>,\n",
       " 17575: <gurobi.Constr *Awaiting Model Update*>,\n",
       " 17585: <gurobi.Constr *Awaiting Model Update*>,\n",
       " 17588: <gurobi.Constr *Awaiting Model Update*>,\n",
       " 17604: <gurobi.Constr *Awaiting Model Update*>,\n",
       " 17615: <gurobi.Constr *Awaiting Model Update*>,\n",
       " 17657: <gurobi.Constr *Awaiting Model Update*>,\n",
       " 17668: <gurobi.Constr *Awaiting Model Update*>,\n",
       " 17699: <gurobi.Constr *Awaiting Model Update*>,\n",
       " 17703: <gurobi.Constr *Awaiting Model Update*>,\n",
       " 17706: <gurobi.Constr *Awaiting Model Update*>,\n",
       " 17710: <gurobi.Constr *Awaiting Model Update*>,\n",
       " 17712: <gurobi.Constr *Awaiting Model Update*>,\n",
       " 17718: <gurobi.Constr *Awaiting Model Update*>,\n",
       " 17732: <gurobi.Constr *Awaiting Model Update*>,\n",
       " 17772: <gurobi.Constr *Awaiting Model Update*>,\n",
       " 17788: <gurobi.Constr *Awaiting Model Update*>,\n",
       " 17795: <gurobi.Constr *Awaiting Model Update*>,\n",
       " 17820: <gurobi.Constr *Awaiting Model Update*>,\n",
       " 17842: <gurobi.Constr *Awaiting Model Update*>,\n",
       " 17844: <gurobi.Constr *Awaiting Model Update*>,\n",
       " 17845: <gurobi.Constr *Awaiting Model Update*>,\n",
       " 17857: <gurobi.Constr *Awaiting Model Update*>,\n",
       " 17897: <gurobi.Constr *Awaiting Model Update*>,\n",
       " 17941: <gurobi.Constr *Awaiting Model Update*>,\n",
       " 17972: <gurobi.Constr *Awaiting Model Update*>,\n",
       " 17988: <gurobi.Constr *Awaiting Model Update*>,\n",
       " 17995: <gurobi.Constr *Awaiting Model Update*>,\n",
       " 17996: <gurobi.Constr *Awaiting Model Update*>,\n",
       " 18014: <gurobi.Constr *Awaiting Model Update*>,\n",
       " 18034: <gurobi.Constr *Awaiting Model Update*>,\n",
       " 18045: <gurobi.Constr *Awaiting Model Update*>,\n",
       " 18046: <gurobi.Constr *Awaiting Model Update*>,\n",
       " 18048: <gurobi.Constr *Awaiting Model Update*>,\n",
       " 18059: <gurobi.Constr *Awaiting Model Update*>,\n",
       " 18071: <gurobi.Constr *Awaiting Model Update*>,\n",
       " 18082: <gurobi.Constr *Awaiting Model Update*>,\n",
       " 18093: <gurobi.Constr *Awaiting Model Update*>,\n",
       " 18106: <gurobi.Constr *Awaiting Model Update*>,\n",
       " 18117: <gurobi.Constr *Awaiting Model Update*>,\n",
       " 18120: <gurobi.Constr *Awaiting Model Update*>,\n",
       " 18158: <gurobi.Constr *Awaiting Model Update*>,\n",
       " 18162: <gurobi.Constr *Awaiting Model Update*>,\n",
       " 18172: <gurobi.Constr *Awaiting Model Update*>,\n",
       " 18177: <gurobi.Constr *Awaiting Model Update*>,\n",
       " 18202: <gurobi.Constr *Awaiting Model Update*>,\n",
       " 18206: <gurobi.Constr *Awaiting Model Update*>,\n",
       " 18299: <gurobi.Constr *Awaiting Model Update*>,\n",
       " 18305: <gurobi.Constr *Awaiting Model Update*>,\n",
       " 18352: <gurobi.Constr *Awaiting Model Update*>,\n",
       " 18424: <gurobi.Constr *Awaiting Model Update*>,\n",
       " 18435: <gurobi.Constr *Awaiting Model Update*>,\n",
       " 18465: <gurobi.Constr *Awaiting Model Update*>,\n",
       " 18471: <gurobi.Constr *Awaiting Model Update*>,\n",
       " 18569: <gurobi.Constr *Awaiting Model Update*>,\n",
       " 18570: <gurobi.Constr *Awaiting Model Update*>,\n",
       " 18585: <gurobi.Constr *Awaiting Model Update*>,\n",
       " 18586: <gurobi.Constr *Awaiting Model Update*>,\n",
       " 18649: <gurobi.Constr *Awaiting Model Update*>,\n",
       " 18684: <gurobi.Constr *Awaiting Model Update*>,\n",
       " 18814: <gurobi.Constr *Awaiting Model Update*>,\n",
       " 18855: <gurobi.Constr *Awaiting Model Update*>,\n",
       " 18972: <gurobi.Constr *Awaiting Model Update*>,\n",
       " 19152: <gurobi.Constr *Awaiting Model Update*>,\n",
       " 19166: <gurobi.Constr *Awaiting Model Update*>,\n",
       " 19384: <gurobi.Constr *Awaiting Model Update*>,\n",
       " 19395: <gurobi.Constr *Awaiting Model Update*>,\n",
       " 19404: <gurobi.Constr *Awaiting Model Update*>,\n",
       " 19426: <gurobi.Constr *Awaiting Model Update*>,\n",
       " 19485: <gurobi.Constr *Awaiting Model Update*>,\n",
       " 19814: <gurobi.Constr *Awaiting Model Update*>,\n",
       " 20006: <gurobi.Constr *Awaiting Model Update*>}"
      ]
     },
     "execution_count": 18,
     "metadata": {},
     "output_type": "execute_result"
    }
   ],
   "source": [
    "# Players with expiring contracts\n",
    "club_expiry_soon = df['club_expiry_soon']\n",
    "\n",
    "model.addConstrs(other_player_vars[i] <= club_expiry_soon[i] for i in other_teams_players.index)"
   ]
  },
  {
   "cell_type": "code",
   "execution_count": 19,
   "id": "2069101d",
   "metadata": {},
   "outputs": [
    {
     "data": {
      "text/plain": [
       "<gurobi.Constr *Awaiting Model Update*>"
      ]
     },
     "execution_count": 19,
     "metadata": {},
     "output_type": "execute_result"
    }
   ],
   "source": [
    "model.addConstr(quicksum(other_player_vars[i] for i in other_teams_players.index) <= 4, \"Other_Teams_Constraint\")"
   ]
  },
  {
   "cell_type": "code",
   "execution_count": 20,
   "id": "987e5a80",
   "metadata": {},
   "outputs": [
    {
     "data": {
      "text/plain": [
       "<gurobi.Constr *Awaiting Model Update*>"
      ]
     },
     "execution_count": 20,
     "metadata": {},
     "output_type": "execute_result"
    }
   ],
   "source": [
    "model.addConstr(\n",
    "    quicksum(player_vars[i] for i in man_city_players.index) + \n",
    "    quicksum(other_player_vars[i] for i in other_teams_players.index) == 25\n",
    ")"
   ]
  },
  {
   "cell_type": "markdown",
   "id": "1fc5969a",
   "metadata": {},
   "source": [
    "## Position Constraints:"
   ]
  },
  {
   "cell_type": "code",
   "execution_count": 21,
   "id": "a8fd9b4f",
   "metadata": {},
   "outputs": [
    {
     "data": {
      "text/plain": [
       "<gurobi.Constr *Awaiting Model Update*>"
      ]
     },
     "execution_count": 21,
     "metadata": {},
     "output_type": "execute_result"
    }
   ],
   "source": [
    "model.addConstr(quicksum(player_vars[i] * man_city_players.loc[i, 'CB'] for i in man_city_players.index) + \n",
    "               quicksum(other_player_vars[i] * other_teams_players.loc[i, 'CB'] for i in other_teams_players.index) >=4)"
   ]
  },
  {
   "cell_type": "code",
   "execution_count": 22,
   "id": "a430adb1",
   "metadata": {},
   "outputs": [
    {
     "data": {
      "text/plain": [
       "<gurobi.Constr *Awaiting Model Update*>"
      ]
     },
     "execution_count": 22,
     "metadata": {},
     "output_type": "execute_result"
    }
   ],
   "source": [
    "model.addConstr(quicksum(player_vars[i] * man_city_players.loc[i, 'LB'] for i in man_city_players.index) + \n",
    "               quicksum(other_player_vars[i] * other_teams_players.loc[i, 'LB'] for i in other_teams_players.index) >=2)"
   ]
  },
  {
   "cell_type": "code",
   "execution_count": 23,
   "id": "177f2f4f",
   "metadata": {},
   "outputs": [
    {
     "data": {
      "text/plain": [
       "<gurobi.Constr *Awaiting Model Update*>"
      ]
     },
     "execution_count": 23,
     "metadata": {},
     "output_type": "execute_result"
    }
   ],
   "source": [
    "model.addConstr(quicksum(player_vars[i] * man_city_players.loc[i, 'RB'] for i in man_city_players.index) + \n",
    "               quicksum(other_player_vars[i] * other_teams_players.loc[i, 'RB'] for i in other_teams_players.index) >= 2)"
   ]
  },
  {
   "cell_type": "code",
   "execution_count": 24,
   "id": "ec2e8d2d",
   "metadata": {},
   "outputs": [
    {
     "data": {
      "text/plain": [
       "<gurobi.Constr *Awaiting Model Update*>"
      ]
     },
     "execution_count": 24,
     "metadata": {},
     "output_type": "execute_result"
    }
   ],
   "source": [
    "model.addConstr(quicksum(player_vars[i] * man_city_players.loc[i, 'CM'] for i in man_city_players.index) +\n",
    "               quicksum(other_player_vars[i] * other_teams_players.loc[i, 'CM'] for i in other_teams_players.index) >= 4)"
   ]
  },
  {
   "cell_type": "code",
   "execution_count": 25,
   "id": "83a911d6",
   "metadata": {},
   "outputs": [
    {
     "data": {
      "text/plain": [
       "<gurobi.Constr *Awaiting Model Update*>"
      ]
     },
     "execution_count": 25,
     "metadata": {},
     "output_type": "execute_result"
    }
   ],
   "source": [
    "model.addConstr(quicksum(player_vars[i] * man_city_players.loc[i, 'ST'] for i in man_city_players.index) + \n",
    "               quicksum(other_player_vars[i] * other_teams_players.loc[i, 'ST'] for i in other_teams_players.index) >=1)"
   ]
  },
  {
   "cell_type": "code",
   "execution_count": 26,
   "id": "52d52cf8",
   "metadata": {},
   "outputs": [
    {
     "data": {
      "text/plain": [
       "<gurobi.Constr *Awaiting Model Update*>"
      ]
     },
     "execution_count": 26,
     "metadata": {},
     "output_type": "execute_result"
    }
   ],
   "source": [
    "model.addConstr(quicksum(player_vars[i] * man_city_players.loc[i, 'CF'] for i in man_city_players.index) + \n",
    "               quicksum(other_player_vars[i] * other_teams_players.loc[i, 'CF'] for i in other_teams_players.index) >= 1)"
   ]
  },
  {
   "cell_type": "code",
   "execution_count": 27,
   "id": "76b5fdbd",
   "metadata": {},
   "outputs": [
    {
     "data": {
      "text/plain": [
       "<gurobi.Constr *Awaiting Model Update*>"
      ]
     },
     "execution_count": 27,
     "metadata": {},
     "output_type": "execute_result"
    }
   ],
   "source": [
    "model.addConstr(quicksum(player_vars[i] * man_city_players.loc[i, 'RW'] for i in man_city_players.index) + \n",
    "               quicksum(other_player_vars[i] * other_teams_players.loc[i, 'RW'] for i in other_teams_players.index) >= 1)"
   ]
  },
  {
   "cell_type": "code",
   "execution_count": 28,
   "id": "6fdb22b2",
   "metadata": {},
   "outputs": [
    {
     "data": {
      "text/plain": [
       "<gurobi.Constr *Awaiting Model Update*>"
      ]
     },
     "execution_count": 28,
     "metadata": {},
     "output_type": "execute_result"
    }
   ],
   "source": [
    "model.addConstr(quicksum(player_vars[i] * man_city_players.loc[i, 'LW'] for i in man_city_players.index) + \n",
    "               quicksum(other_player_vars[i] * other_teams_players.loc[i, 'LW'] for i in other_teams_players.index) >= 1)"
   ]
  },
  {
   "cell_type": "code",
   "execution_count": 29,
   "id": "dbab9b25",
   "metadata": {},
   "outputs": [
    {
     "data": {
      "text/plain": [
       "<gurobi.Constr *Awaiting Model Update*>"
      ]
     },
     "execution_count": 29,
     "metadata": {},
     "output_type": "execute_result"
    }
   ],
   "source": [
    "model.addConstr(quicksum(player_vars[i] * man_city_players.loc[i, 'GK'] for i in man_city_players.index) + \n",
    "               quicksum(other_player_vars[i] * other_teams_players.loc[i, 'GK'] for i in other_teams_players.index) >= 2)"
   ]
  },
  {
   "cell_type": "code",
   "execution_count": 30,
   "id": "bb439589",
   "metadata": {},
   "outputs": [
    {
     "name": "stdout",
     "output_type": "stream",
     "text": [
      "Gurobi Optimizer version 10.0.2 build v10.0.2rc0 (win64)\n",
      "\n",
      "CPU model: 13th Gen Intel(R) Core(TM) i5-1335U, instruction set [SSE2|AVX|AVX2]\n",
      "Thread count: 10 physical cores, 12 logical processors, using up to 12 threads\n",
      "\n",
      "Optimize a model with 323 rows, 342 columns and 1631 nonzeros\n",
      "Model fingerprint: 0x507c54b2\n",
      "Variable types: 0 continuous, 342 integer (342 binary)\n",
      "Coefficient statistics:\n",
      "  Matrix range     [1e+00, 1e+08]\n",
      "  Objective range  [6e+01, 1e+02]\n",
      "  Bounds range     [1e+00, 1e+00]\n",
      "  RHS range        [1e+00, 2e+08]\n",
      "Warning: Model contains large matrix coefficients\n",
      "         Consider reformulating model or setting NumericFocus parameter\n",
      "         to avoid numerical issues.\n",
      "Found heuristic solution: objective 2044.0000000\n",
      "Presolve removed 311 rows and 64 columns\n",
      "Presolve time: 0.00s\n",
      "Presolved: 12 rows, 278 columns, 1090 nonzeros\n",
      "Variable types: 0 continuous, 278 integer (259 binary)\n",
      "Found heuristic solution: objective 2107.5000000\n",
      "\n",
      "Root relaxation: objective 2.111408e+03, 15 iterations, 0.00 seconds (0.00 work units)\n",
      "\n",
      "    Nodes    |    Current Node    |     Objective Bounds      |     Work\n",
      " Expl Unexpl |  Obj  Depth IntInf | Incumbent    BestBd   Gap | It/Node Time\n",
      "\n",
      "     0     0 2111.40845    0    2 2107.50000 2111.40845  0.19%     -    0s\n",
      "H    0     0                    2110.5000000 2111.40845  0.04%     -    0s\n",
      "     0     0 2111.40845    0    2 2110.50000 2111.40845  0.04%     -    0s\n",
      "\n",
      "Explored 1 nodes (15 simplex iterations) in 0.04 seconds (0.00 work units)\n",
      "Thread count was 12 (of 12 available processors)\n",
      "\n",
      "Solution count 3: 2110.5 2107.5 2044 \n",
      "\n",
      "Optimal solution found (tolerance 1.00e-04)\n",
      "Best objective 2.110500000000e+03, best bound 2.110500000000e+03, gap 0.0000%\n"
     ]
    }
   ],
   "source": [
    "model.optimize()"
   ]
  },
  {
   "cell_type": "code",
   "execution_count": 31,
   "id": "b71064fc",
   "metadata": {},
   "outputs": [
    {
     "name": "stdout",
     "output_type": "stream",
     "text": [
      "Gurobi Optimizer version 10.0.2 build v10.0.2rc0 (win64)\n",
      "\n",
      "CPU model: 13th Gen Intel(R) Core(TM) i5-1335U, instruction set [SSE2|AVX|AVX2]\n",
      "Thread count: 10 physical cores, 12 logical processors, using up to 12 threads\n",
      "\n",
      "Optimize a model with 323 rows, 342 columns and 1631 nonzeros\n",
      "Model fingerprint: 0x507c54b2\n",
      "Variable types: 0 continuous, 342 integer (342 binary)\n",
      "Coefficient statistics:\n",
      "  Matrix range     [1e+00, 1e+08]\n",
      "  Objective range  [6e+01, 1e+02]\n",
      "  Bounds range     [1e+00, 1e+00]\n",
      "  RHS range        [1e+00, 2e+08]\n",
      "Warning: Model contains large matrix coefficients\n",
      "         Consider reformulating model or setting NumericFocus parameter\n",
      "         to avoid numerical issues.\n",
      "Presolved: 12 rows, 278 columns, 1090 nonzeros\n",
      "\n",
      "Continuing optimization...\n",
      "\n",
      "\n",
      "Explored 1 nodes (15 simplex iterations) in 0.03 seconds (0.00 work units)\n",
      "Thread count was 12 (of 12 available processors)\n",
      "\n",
      "Solution count 3: 2110.5 2107.5 2044 \n",
      "\n",
      "Optimal solution found (tolerance 1.00e-04)\n",
      "Best objective 2.110500000000e+03, best bound 2.110500000000e+03, gap 0.0000%\n",
      "Selected Players:\n",
      "David Josué Jiménez Silva\n",
      "Sergio Leonel Agüero del Castillo\n",
      "Kevin De Bruyne\n",
      "Gnégnéri Yaya Touré\n",
      "Vincent Jean Mpoy Kompany\n",
      "Charles Joseph John Hart\n",
      "Nicolás Hernán Gonzalo Otamendi\n",
      "Samir Nasri\n",
      "Pablo Javier Zabaleta Girod\n",
      "Raheem Sterling\n",
      "Martín Gastón Demichelis\n",
      "Wilfried Guemiand Bony\n",
      "Gaël Dimitri Clichy\n",
      "Eliaquim Mangala\n",
      "Bacary Sagna\n",
      "Fabian Delph\n",
      "Bruno Zuculini\n",
      "Kelechi Promise Iheanacho\n",
      "Thierry Ambrose\n",
      "Angus Gunn\n",
      "David Faupala\n",
      "Neymar da Silva Santos Júnior\n",
      "Mario Götze\n",
      "Christian Dannemann Eriksen\n",
      "Raphaël Adelino José Guerreiro\n"
     ]
    }
   ],
   "source": [
    "model.optimize()\n",
    "print('Selected Players:')\n",
    "for i in man_city_players.index:\n",
    "    if player_vars[i].x > 0.5: \n",
    "        print(man_city_players.loc[i, 'long_name'])\n",
    "for i in other_teams_players.index:\n",
    "    if other_player_vars[i].x > 0.5:\n",
    "        print(other_teams_players.loc[i, 'long_name'])\n"
   ]
  },
  {
   "cell_type": "code",
   "execution_count": 32,
   "id": "451f6aec",
   "metadata": {},
   "outputs": [
    {
     "name": "stdout",
     "output_type": "stream",
     "text": [
      "                          Player Name\n",
      "0           David Josué Jiménez Silva\n",
      "1   Sergio Leonel Agüero del Castillo\n",
      "2                     Kevin De Bruyne\n",
      "3                 Gnégnéri Yaya Touré\n",
      "4           Vincent Jean Mpoy Kompany\n",
      "5            Charles Joseph John Hart\n",
      "6     Nicolás Hernán Gonzalo Otamendi\n",
      "7                         Samir Nasri\n",
      "8         Pablo Javier Zabaleta Girod\n",
      "9                     Raheem Sterling\n",
      "10           Martín Gastón Demichelis\n",
      "11             Wilfried Guemiand Bony\n",
      "12                Gaël Dimitri Clichy\n",
      "13                   Eliaquim Mangala\n",
      "14                       Bacary Sagna\n",
      "15                       Fabian Delph\n",
      "16                     Bruno Zuculini\n",
      "17          Kelechi Promise Iheanacho\n",
      "18                    Thierry Ambrose\n",
      "19                         Angus Gunn\n",
      "20                      David Faupala\n",
      "21      Neymar da Silva Santos Júnior\n",
      "22                        Mario Götze\n",
      "23        Christian Dannemann Eriksen\n",
      "24     Raphaël Adelino José Guerreiro\n"
     ]
    }
   ],
   "source": [
    "import pandas as pd\n",
    "\n",
    "selected_players = []\n",
    "\n",
    "for i in man_city_players.index:\n",
    "    if player_vars[i].x > 0.5: \n",
    "        selected_players.append(man_city_players.loc[i, 'long_name'])\n",
    "        \n",
    "for i in other_teams_players.index:\n",
    "    if other_player_vars[i].x > 0.5:\n",
    "        selected_players.append(other_teams_players.loc[i, 'long_name'])\n",
    "\n",
    "# Create a DataFrame from the selected players list\n",
    "df_selected_players = pd.DataFrame(selected_players, columns=['Player Name'])\n",
    "\n",
    "# Display the DataFrame\n",
    "print(df_selected_players)"
   ]
  },
  {
   "cell_type": "code",
   "execution_count": 33,
   "id": "bbefc911",
   "metadata": {},
   "outputs": [],
   "source": [
    "import pandas as pd\n",
    "\n",
    "all_players = pd.concat([man_city_players, other_teams_players])\n",
    "\n",
    "selected_players_df = all_players[all_players['long_name'].isin(selected_players)]\n",
    "#selected_players_df.to_csv('man.csv', index=False)"
   ]
  },
  {
   "cell_type": "markdown",
   "id": "61391be6",
   "metadata": {},
   "source": [
    "## Make sure to have imported man.csv from the previous step\n",
    "* the code runs in our directory, contact oyundari.batbayar@mail.mcgill.ca if you encounter issues. "
   ]
  },
  {
   "cell_type": "code",
   "execution_count": 34,
   "id": "7b4751bf",
   "metadata": {},
   "outputs": [
    {
     "name": "stdout",
     "output_type": "stream",
     "text": [
      "[168542, 153079, 192985, 20289, 139720, 150724, 192366, 165239, 142784, 202652, 134979, 189963, 152554, 190531, 163419, 183427, 203864, 225719, 221350, 216325, 229670, 190871, 192318, 190460, 209889]\n"
     ]
    },
    {
     "name": "stderr",
     "output_type": "stream",
     "text": [
      "C:\\Users\\oyund\\AppData\\Local\\Temp\\ipykernel_22224\\2395556714.py:4: DtypeWarning: Columns (108) have mixed types. Specify dtype option on import or set low_memory=False.\n",
      "  df_all = pd.read_csv(\"male_players (legacy).csv\",encoding='latin1')\n",
      "C:\\Users\\oyund\\AppData\\Local\\Temp\\ipykernel_22224\\2395556714.py:9: SettingWithCopyWarning: \n",
      "A value is trying to be set on a copy of a slice from a DataFrame.\n",
      "Try using .loc[row_indexer,col_indexer] = value instead\n",
      "\n",
      "See the caveats in the documentation: https://pandas.pydata.org/pandas-docs/stable/user_guide/indexing.html#returning-a-view-versus-a-copy\n",
      "  df['preferred_foot'] = df['preferred_foot'].apply(lambda x: 0 if x == 'Right' else 1)\n"
     ]
    }
   ],
   "source": [
    "df = pd.read_csv('man.csv',encoding='latin1')\n",
    "Id = df['player_id'].tolist()\n",
    "print(Id)\n",
    "df_all = pd.read_csv(\"male_players (legacy).csv\",encoding='latin1')\n",
    "df_all['fifa_update_date'] = pd.to_datetime(df_all['fifa_update_date'])\n",
    "df_all = df_all[df_all['fifa_update_date'].dt.year == 2016]\n",
    "Id = df['player_id'].tolist()\n",
    "df = df_all[df_all['player_id'].isin(Id)]\n",
    "df['preferred_foot'] = df['preferred_foot'].apply(lambda x: 0 if x == 'Right' else 1)"
   ]
  },
  {
   "cell_type": "code",
   "execution_count": 35,
   "id": "6b83b09c",
   "metadata": {},
   "outputs": [
    {
     "name": "stderr",
     "output_type": "stream",
     "text": [
      "C:\\Users\\oyund\\AppData\\Local\\Temp\\ipykernel_22224\\441303172.py:1: SettingWithCopyWarning: \n",
      "A value is trying to be set on a copy of a slice from a DataFrame.\n",
      "Try using .loc[row_indexer,col_indexer] = value instead\n",
      "\n",
      "See the caveats in the documentation: https://pandas.pydata.org/pandas-docs/stable/user_guide/indexing.html#returning-a-view-versus-a-copy\n",
      "  df[['attacking_work_rate', 'defending_work_rate']] = df['work_rate'].str.split('/', expand=True)\n",
      "C:\\Users\\oyund\\AppData\\Local\\Temp\\ipykernel_22224\\441303172.py:1: SettingWithCopyWarning: \n",
      "A value is trying to be set on a copy of a slice from a DataFrame.\n",
      "Try using .loc[row_indexer,col_indexer] = value instead\n",
      "\n",
      "See the caveats in the documentation: https://pandas.pydata.org/pandas-docs/stable/user_guide/indexing.html#returning-a-view-versus-a-copy\n",
      "  df[['attacking_work_rate', 'defending_work_rate']] = df['work_rate'].str.split('/', expand=True)\n",
      "C:\\Users\\oyund\\AppData\\Local\\Temp\\ipykernel_22224\\441303172.py:7: SettingWithCopyWarning: \n",
      "A value is trying to be set on a copy of a slice from a DataFrame.\n",
      "Try using .loc[row_indexer,col_indexer] = value instead\n",
      "\n",
      "See the caveats in the documentation: https://pandas.pydata.org/pandas-docs/stable/user_guide/indexing.html#returning-a-view-versus-a-copy\n",
      "  df['attacking_work_rate'] = df['attacking_work_rate'].apply(replace_work_rate)\n",
      "C:\\Users\\oyund\\AppData\\Local\\Temp\\ipykernel_22224\\441303172.py:8: SettingWithCopyWarning: \n",
      "A value is trying to be set on a copy of a slice from a DataFrame.\n",
      "Try using .loc[row_indexer,col_indexer] = value instead\n",
      "\n",
      "See the caveats in the documentation: https://pandas.pydata.org/pandas-docs/stable/user_guide/indexing.html#returning-a-view-versus-a-copy\n",
      "  df['defending_work_rate'] = df['defending_work_rate'].apply(replace_work_rate)\n"
     ]
    }
   ],
   "source": [
    "df[['attacking_work_rate', 'defending_work_rate']] = df['work_rate'].str.split('/', expand=True)\n",
    "\n",
    "def replace_work_rate(value):\n",
    "    mapping = {'Low': 1, 'Medium': 2, 'High': 3}\n",
    "    return mapping.get(value.strip().capitalize(), value)\n",
    "\n",
    "df['attacking_work_rate'] = df['attacking_work_rate'].apply(replace_work_rate)\n",
    "df['defending_work_rate'] = df['defending_work_rate'].apply(replace_work_rate)"
   ]
  },
  {
   "cell_type": "code",
   "execution_count": 36,
   "id": "44a5c39f",
   "metadata": {},
   "outputs": [],
   "source": [
    "name = df[\"short_name\"].tolist()\n",
    "pn = df.iloc[:, -30:-3].columns\n",
    "names = [p+' : '+ item for item in name for p in pn]\n",
    "foot = df['preferred_foot'].tolist()\n",
    "overall = df[\"overall\"].tolist()\n",
    "potential = df['potential'].tolist()\n",
    "attack = df['attacking_finishing'].tolist()\n",
    "defend_heading = df['defending_marking_awareness']+df['attacking_heading_accuracy']\n",
    "defend_heading_list = defend_heading.tolist()\n",
    "speed = df['movement_sprint_speed'].tolist()\n",
    "cross = df['attacking_crossing'].tolist()\n",
    "stamina = df[\"power_stamina\"].tolist()\n",
    "tackle = df['defending_standing_tackle'].tolist()\n",
    "defawareness = df['defending_marking_awareness'].tolist()\n",
    "control = df['skill_ball_control'].tolist()\n",
    "positioning = df['mentality_positioning'].tolist()\n",
    "defend_work_rate = df['defending_work_rate'].tolist()\n",
    "strength = df['power_strength'].tolist()\n",
    "\n",
    "num = len(name)\n",
    "ability = df.iloc[:, -30:-3].values\n",
    "for i in range(len(ability)):\n",
    "    for j in range(len(ability[i])):\n",
    "        ability[i][j] = eval(ability[i][j])\n",
    "        if ability[i][j] not in range(0,100):\n",
    "            print(ability[i][j])"
   ]
  },
  {
   "cell_type": "code",
   "execution_count": 37,
   "id": "f3d8e42f",
   "metadata": {},
   "outputs": [],
   "source": [
    "new_26_ability = []\n",
    "new_26_name1 = []\n",
    "new_foot = []\n",
    "new_speed = []\n",
    "new_cross = []\n",
    "new_stamina = []\n",
    "new_tackle = []\n",
    "new_defawareness = []\n",
    "new_control = []\n",
    "new_positioning = []\n",
    "new_defend_work_rate = []\n",
    "new_strength = []\n",
    "\n",
    "for i in range(num):\n",
    "    new_26_ability.append(ability[i].tolist())\n",
    "    new_26_name1.append(name[i])\n",
    "    new_foot.append(foot[i])\n",
    "    new_speed.append(speed[i])\n",
    "    new_cross.append(cross[i])\n",
    "    new_stamina.append(stamina[i])\n",
    "    new_tackle.append(tackle[i])\n",
    "    new_defawareness.append(defawareness[i])\n",
    "    new_control.append(control[i])\n",
    "    new_positioning.append(positioning[i])\n",
    "    new_defend_work_rate.append(defend_work_rate[i])\n",
    "    new_strength.append(strength[i])\n",
    "    \n",
    "\n",
    "num = len(new_26_name1)\n",
    "new_26_name = [p+' : '+ item for item in new_26_name1 for p in pn]"
   ]
  },
  {
   "cell_type": "code",
   "execution_count": 38,
   "id": "689ad1fd",
   "metadata": {},
   "outputs": [
    {
     "data": {
      "text/plain": [
       "<gurobi.Constr *Awaiting Model Update*>"
      ]
     },
     "execution_count": 38,
     "metadata": {},
     "output_type": "execute_result"
    }
   ],
   "source": [
    "# attack formation 433\n",
    "model = gb.Model(\"2016 best11\")\n",
    "#model.setParam('MIPGap', 0.00001)\n",
    "# We ask Gurobi not to print too much on screen\n",
    "model.Params.OutputFlag = 0\n",
    "\n",
    "# Your code here:\n",
    "n = model.addVars(num,27,vtype = GRB.BINARY,name=new_26_name)\n",
    "sc = model.addVars(num,vtype = GRB.BINARY,name=new_26_name1)\n",
    "dn = model.addVars(num,vtype = GRB.BINARY,name=new_26_name1)\n",
    "stn = model.addVars(num,vtype = GRB.BINARY,name=new_26_name1)\n",
    "\n",
    "total = quicksum(n[i,j]*new_26_ability[i][j] for i in range(num) for j in range(27))\n",
    "controling = quicksum(sc[i]*new_control[i] for i in range(num))\n",
    "staminaing = quicksum(stn[i]*new_stamina[i] for i in range(num))\n",
    "defending = quicksum(dn[i]*new_defend_work_rate[i] for i in range(num))\n",
    "\n",
    "model.setObjectiveN(staminaing, index =3, priority = 0)\n",
    "model.setObjectiveN(defending, index =2, priority = 1)\n",
    "model.setObjectiveN(controling, index =1, priority = 2)\n",
    "model.setObjectiveN(total/11, index =0, priority = 3)\n",
    "model.ModelSense = GRB.MAXIMIZE\n",
    "\n",
    "model.addConstr(sum(sc[i] for i in range(num))==11)\n",
    "model.addConstr(sum(dn[i] for i in range(num))==11)\n",
    "model.addConstr(sum(stn[i] for i in range(num))==11)\n",
    "\n",
    "for i in range(num):\n",
    "    model.addConstr(sc[i] <= sum(n[i,j] for j in range(27)))\n",
    "    model.addConstr(dn[i] <= sum(n[i,j] for j in range(27)))\n",
    "    model.addConstr(stn[i] <= sum(n[i,j] for j in range(27)))\n",
    "\n",
    "for i in range(num):\n",
    "    model.addConstr(sum(n[i,j] for j in range(27))<=1)\n",
    "model.addConstr(sum(n[i,j] for i in range(num) for j in range(27))==11)\n",
    "\n",
    "# goal keeper equal to 1\n",
    "model.addConstr(sum(n[i,26] for i in range(num))==1)\n",
    "\n",
    "# forward at least 1\n",
    "model.addConstr(sum(n[i,1] for i in range(num)) + sum(n[i,5] for i in range(num))==1)\n",
    "\n",
    "# lb,lwb and rb,rwb only 1 each\n",
    "model.addConstr(sum(n[i,21] for i in range(num)) ==1)\n",
    "\n",
    "model.addConstr(sum(n[i,25] for i in range(num)) ==1)\n",
    "\n",
    "# rcb and lcb only 1 each\n",
    "model.addConstr(sum(n[i,22] for i in range(num)) ==1)\n",
    "model.addConstr(sum(n[i,24] for i in range(num)) ==1)\n",
    "\n",
    "# lb must has preferred_foot at left and rb must has preferred_foot at right\n",
    "\n",
    "model.addConstrs(n[i,21]<= new_foot[i] for i in range(num))\n",
    "model.addConstrs(n[i,16]<= new_foot[i] for i in range(num))\n",
    "\n",
    "model.addConstrs(n[i,25] + new_foot[i] <= 1 for i in range(num))\n",
    "model.addConstrs(n[i,20] + new_foot[i] <= 1 for i in range(num))\n",
    "\n",
    "# Each position only can be 1 players\n",
    "model.addConstrs(sum(n[i,j] for i in range(num)) <=1 for j in range(27))\n",
    "\n",
    "# Number of left side and Right side should be equal\n",
    "l = sum(n[i,0] +n[i,3]+n[i,4]+n[i,8]+n[i,11]+n[i,12]+n[i,16]+n[i,17]+n[i,21] for i in range(num))\n",
    "r = sum(n[i,2] +n[i,6]+n[i,7]+n[i,10]+n[i,14]+n[i,15]+n[i,19]+n[i,20]+n[i,25] for i in range(num))\n",
    "model.addConstr(l==r)\n",
    "\n",
    "rf = sum(n[i,6]+n[i,7]+n[i,15]+n[i,10] for i in range(num))\n",
    "lf = sum(n[i,3]+n[i,4]+n[i,11]+n[i,8] for i in range(num))\n",
    "model.addConstr(lf==rf)\n",
    "\n",
    "# Midfield exactly 3\n",
    "f = sum(n[i,9]+ n[i,12] +n[i,13]+n[i,14]+n[i,17]+n[i,18]+n[i,19] for i in range(num))\n",
    "model.addConstr(f ==3)\n",
    "\n",
    "# make sure not all locate at center\n",
    "model.addConstr(sum(n[i,9]+ n[i,13] +n[i,18] for i in range(num)) ==1)\n",
    "\n",
    "\n",
    "# Two wine\n",
    "w = sum(n[i,3]+ n[i,7] +n[i,11]+n[i,15]for i in range(num))\n",
    "model.addConstr(w ==2)"
   ]
  },
  {
   "cell_type": "code",
   "execution_count": 39,
   "id": "cf248912",
   "metadata": {},
   "outputs": [
    {
     "name": "stdout",
     "output_type": "stream",
     "text": [
      "rw : Neymar\n",
      "st : S. Agüero\n",
      "lm : K. De Bruyne\n",
      "cam : David Silva\n",
      "rcb : V. Kompany\n",
      "lcb : N. Otamendi\n",
      "rcm : Y. Touré\n",
      "gk : J. Hart\n",
      "lcm : C. Eriksen\n",
      "rb : P. Zabaleta\n",
      "lb : G. Clichy\n",
      "overall rating is:  85.36363636363637\n"
     ]
    }
   ],
   "source": [
    "model.optimize()\n",
    "for i in range(num):\n",
    "        for j in range(27):\n",
    "            if n[i, j].X > 0.5:  # Assuming a binary variable, check if it's set to 1\n",
    "                print(n[i, j].VarName)\n",
    "print('overall rating is: ',model.getObjective(0).getValue())"
   ]
  },
  {
   "cell_type": "code",
   "execution_count": 40,
   "id": "79c251df",
   "metadata": {},
   "outputs": [
    {
     "data": {
      "text/plain": [
       "<gurobi.Constr *Awaiting Model Update*>"
      ]
     },
     "execution_count": 40,
     "metadata": {},
     "output_type": "execute_result"
    }
   ],
   "source": [
    "# attack formation 4231\n",
    "model = gb.Model(\"2021 best11\")\n",
    "#model.setParam('MIPGap', 0.00001)\n",
    "# We ask Gurobi not to print too much on screen\n",
    "model.Params.OutputFlag = 0\n",
    "\n",
    "# Your code here:\n",
    "n = model.addVars(num,27,vtype = GRB.BINARY,name=new_26_name)\n",
    "sc = model.addVars(num,vtype = GRB.BINARY,name=new_26_name1)\n",
    "dn = model.addVars(num,vtype = GRB.BINARY,name=new_26_name1)\n",
    "strength = model.addVars(num,vtype = GRB.BINARY,name=new_26_name1)\n",
    "\n",
    "total = quicksum(n[i,j]*new_26_ability[i][j] for i in range(num) for j in range(27))\n",
    "controling = quicksum(sc[i]*new_control[i] for i in range(num))\n",
    "strengthing = quicksum(strength[i]*new_strength[i] for i in range(num))\n",
    "defending = quicksum(dn[i]*new_defend_work_rate[i] for i in range(num))\n",
    "\n",
    "model.setObjectiveN(strengthing, index =3, priority = 0)\n",
    "model.setObjectiveN(defending, index =2, priority = 1)\n",
    "model.setObjectiveN(controling, index =1, priority = 2)\n",
    "model.setObjectiveN(total/11, index =0, priority = 3)\n",
    "model.ModelSense = GRB.MAXIMIZE\n",
    "\n",
    "model.addConstr(sum(sc[i] for i in range(num))==11)\n",
    "model.addConstr(sum(dn[i] for i in range(num))==11)\n",
    "model.addConstr(sum(strength[i] for i in range(num))==11)\n",
    "\n",
    "for i in range(num):\n",
    "    model.addConstr(sc[i] <= sum(n[i,j] for j in range(27)))\n",
    "    model.addConstr(dn[i] <= sum(n[i,j] for j in range(27)))\n",
    "    model.addConstr(strength[i] <= sum(n[i,j] for j in range(27)))\n",
    "\n",
    "for i in range(num):\n",
    "    model.addConstr(sum(n[i,j] for j in range(27))<=1)\n",
    "model.addConstr(sum(n[i,j] for i in range(num) for j in range(27))==11)\n",
    "\n",
    "# goal keeper equal to 1\n",
    "model.addConstr(sum(n[i,26] for i in range(num))==1)\n",
    "\n",
    "# forward at least 1\n",
    "model.addConstr(sum(n[i,1] for i in range(num)) + sum(n[i,5] for i in range(num))==1)\n",
    "\n",
    "# cam equal to 1\n",
    "model.addConstr(sum(n[i,9] for i in range(num))==1)\n",
    "\n",
    "# dm at least 1 and no more two\n",
    "model.addConstr(sum(n[i,16] for i in range(num)) + sum(n[i,17] for i in range(num))+ sum(n[i,18] for i in range(num))>=1)\n",
    "model.addConstr(sum(n[i,16] for i in range(num)) + sum(n[i,17] for i in range(num))+ sum(n[i,18] for i in range(num)) <=2)\n",
    "\n",
    "# lb,lwb and rb,rwb only 1 each\n",
    "model.addConstr(sum(n[i,21] for i in range(num)) ==1)\n",
    "\n",
    "model.addConstr(sum(n[i,25] for i in range(num)) ==1)\n",
    "\n",
    "# rcb and lcb only 1 each\n",
    "model.addConstr(sum(n[i,22] for i in range(num)) ==1)\n",
    "model.addConstr(sum(n[i,24] for i in range(num)) ==1)\n",
    "\n",
    "# lb must has preferred_foot at left and rb must has preferred_foot at right\n",
    "\n",
    "model.addConstrs(n[i,21]<= new_foot[i] for i in range(num))\n",
    "model.addConstrs(n[i,16]<= new_foot[i] for i in range(num))\n",
    "\n",
    "model.addConstrs(n[i,25] + new_foot[i] <= 1 for i in range(num))\n",
    "model.addConstrs(n[i,20] + new_foot[i] <= 1 for i in range(num))\n",
    "\n",
    "# Each position only can be 1 players\n",
    "model.addConstrs(sum(n[i,j] for i in range(num)) <=1 for j in range(27))\n",
    "\n",
    "# Number of left side and Right side should be equal\n",
    "l = sum(n[i,0] +n[i,3]+n[i,4]+n[i,8]+n[i,11]+n[i,12]+n[i,16]+n[i,17]+n[i,21] for i in range(num))\n",
    "r = sum(n[i,2] +n[i,6]+n[i,7]+n[i,10]+n[i,14]+n[i,15]+n[i,19]+n[i,20]+n[i,25] for i in range(num))\n",
    "model.addConstr(l==r)\n",
    "\n",
    "rf = sum(n[i,6]+n[i,7]+n[i,15]+n[i,10] for i in range(num))\n",
    "lf = sum(n[i,3]+n[i,4]+n[i,11]+n[i,8] for i in range(num))\n",
    "model.addConstr(lf==rf)\n",
    "\n",
    "# Midfield exactly 3\n",
    "f = sum(n[i,9]+ n[i,12] +n[i,13]+n[i,14]+n[i,17]+n[i,18]+n[i,19] for i in range(num))\n",
    "model.addConstr(f ==3)\n",
    "\n",
    "# make sure not all locate at center\n",
    "model.addConstr(sum(n[i,9]+ n[i,13] +n[i,18] for i in range(num)) ==1)\n",
    "\n",
    "\n",
    "# Two wine\n",
    "w = sum(n[i,3]+ n[i,7] +n[i,11]+n[i,15]for i in range(num))\n",
    "model.addConstr(w ==2)"
   ]
  },
  {
   "cell_type": "code",
   "execution_count": 41,
   "id": "e37c8669",
   "metadata": {},
   "outputs": [
    {
     "name": "stdout",
     "output_type": "stream",
     "text": [
      "lw : Neymar\n",
      "st : S. Agüero\n",
      "rm : K. De Bruyne\n",
      "cam : David Silva\n",
      "lcb : V. Kompany\n",
      "rcb : N. Otamendi\n",
      "rcm : Y. Touré\n",
      "gk : J. Hart\n",
      "ldm : P. Zabaleta\n",
      "rb : B. Sagna\n",
      "lb : G. Clichy\n",
      "overall rating is:  85.36363636363637\n"
     ]
    }
   ],
   "source": [
    "model.optimize()\n",
    "for i in range(num):\n",
    "        for j in range(27):\n",
    "            if n[i, j].X > 0.5:  # Assuming a binary variable, check if it's set to 1\n",
    "                print(n[i, j].VarName)\n",
    "print('overall rating is: ',model.getObjective(0).getValue())"
   ]
  }
 ],
 "metadata": {
  "kernelspec": {
   "display_name": "Python 3 (ipykernel)",
   "language": "python",
   "name": "python3"
  },
  "language_info": {
   "codemirror_mode": {
    "name": "ipython",
    "version": 3
   },
   "file_extension": ".py",
   "mimetype": "text/x-python",
   "name": "python",
   "nbconvert_exporter": "python",
   "pygments_lexer": "ipython3",
   "version": "3.11.3"
  }
 },
 "nbformat": 4,
 "nbformat_minor": 5
}
